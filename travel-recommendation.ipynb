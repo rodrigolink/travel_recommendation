{
 "cells": [
  {
   "cell_type": "code",
   "execution_count": 1,
   "metadata": {
    "execution": {
     "iopub.execute_input": "2022-01-13T14:29:51.205986Z",
     "iopub.status.busy": "2022-01-13T14:29:51.205346Z",
     "iopub.status.idle": "2022-01-13T14:30:00.221514Z",
     "shell.execute_reply": "2022-01-13T14:30:00.220486Z",
     "shell.execute_reply.started": "2022-01-13T14:29:51.205948Z"
    },
    "id": "Na_zWfhL5L5s",
    "outputId": "848955e0-45a9-49b1-963f-2ebe24fb289d"
   },
   "outputs": [],
   "source": [
    "#!pip install apyori"
   ]
  },
  {
   "cell_type": "code",
   "execution_count": 2,
   "metadata": {
    "execution": {
     "iopub.execute_input": "2022-01-13T14:30:00.224592Z",
     "iopub.status.busy": "2022-01-13T14:30:00.224194Z",
     "iopub.status.idle": "2022-01-13T14:30:00.231486Z",
     "shell.execute_reply": "2022-01-13T14:30:00.230026Z",
     "shell.execute_reply.started": "2022-01-13T14:30:00.224539Z"
    },
    "id": "O8R7Hgvk5L5v"
   },
   "outputs": [],
   "source": [
    "#import libraries\n",
    "import pandas as pd\n",
    "import requests\n",
    "from bs4 import BeautifulSoup\n",
    "import random\n",
    "import numpy as np\n",
    "import matplotlib.pyplot as plt\n",
    "import csv\n",
    "from sklearn.metrics.pairwise import cosine_similarity\n",
    "from apyori import apriori\n",
    "import time"
   ]
  },
  {
   "cell_type": "markdown",
   "metadata": {
    "id": "eNp18xQ55L5w"
   },
   "source": [
    "## 1. Creation of a table of destinations and their attractions\n",
    "The idea here is to create a list of cities and give them a random number of activities from a list of different categories. The distribution of number of activities per city will be lognormal, i. e., few cities will have a very low number and there will be fewer cities as this number increases, while most of them will be around the mode. The activities will be randomly put into one of the categories, with equal probabilities."
   ]
  },
  {
   "cell_type": "markdown",
   "metadata": {
    "id": "FOCWOcaq5L5y"
   },
   "source": [
    "### 1.1 Creating the cities\n",
    "The first idea was to name the cities as 'City_###', but I found a list of fictional locations from games, books, series and movies, so that will be more interesting. I'm using BeautifulSoup to read the website and extract the names of the cities."
   ]
  },
  {
   "cell_type": "code",
   "execution_count": 3,
   "metadata": {
    "execution": {
     "iopub.execute_input": "2022-01-13T14:30:00.233120Z",
     "iopub.status.busy": "2022-01-13T14:30:00.232833Z",
     "iopub.status.idle": "2022-01-13T14:30:00.760589Z",
     "shell.execute_reply": "2022-01-13T14:30:00.759552Z",
     "shell.execute_reply.started": "2022-01-13T14:30:00.233020Z"
    },
    "id": "Qf90kcG75L5y",
    "outputId": "a1491957-e948-46aa-d268-c070d5c40690"
   },
   "outputs": [
    {
     "name": "stdout",
     "output_type": "stream",
     "text": [
      "Number of cities: 987\n"
     ]
    },
    {
     "data": {
      "text/plain": [
       "['Dogville',\n",
       " 'Idris',\n",
       " 'Newtropolis',\n",
       " 'Greenback',\n",
       " 'Ravnica',\n",
       " 'Cinnabar Island',\n",
       " 'Primordium',\n",
       " \"Jerusalem's Lot\",\n",
       " \"Devil's End\",\n",
       " 'Arendelle']"
      ]
     },
     "metadata": {},
     "output_type": "display_data"
    },
    {
     "name": "stdout",
     "output_type": "stream",
     "text": [
      "Number of cities: 987\n"
     ]
    }
   ],
   "source": [
    "#get list of fictional cities from website\n",
    "#url_cities = 'https://list.fandom.com/wiki/List_of_fictional_cities'\n",
    "#html_data=requests.get(url_cities).text\n",
    "#soup = BeautifulSoup(html_data,\"html5lib\") \n",
    "\n",
    "#local version\n",
    "soup = BeautifulSoup(open(\"list_fictional_cities.html\", encoding=\"utf8\"), \"html.parser\")\n",
    "\n",
    "\n",
    "#getting the list from the HTML\n",
    "list_cities=[]\n",
    "html_text=soup.findAll('li')[81:-51]\n",
    "for row in html_text:\n",
    "    list_cities.append(row.text)\n",
    "\n",
    "list_cities = [x.split(' - ')[0].split(',')[0].split(';')[0].split('(')[0] for x in list_cities]\n",
    "#removing empty entries\n",
    "list_cities = list(filter(None, list_cities))\n",
    "\n",
    "#editing special cases (typos from the website)\n",
    "list_special = ['Emmerdale from the British TV series of the same name','Capitol City the capital of the United States of America featured in the game Destroy All Humans! which is based on Washington DC.',\n",
    "                \"Walton's Mountain fictional site in the Blue Ridge Mountains for The Waltons\",\"El-Ysa: village in Klatch in Terry Pratchett's Discworld. The inhabitants were killed when their well was poisoned \",\n",
    "               \"Kamurocho- A fictional city in the Yakuza series\", \"Everville -town on the West Coast of the USA in Clive Barker's Everville\",\n",
    "               \"Earth City in Inverted World by Christopher Priest\",\"Chronopolis by J. G. Ballard\", \"Villette of Charlotte Brontë\", \n",
    "               \"Ramgarh- Typical village in central India in early 70's. Venue for Bollywood blockbuster Sholay.\",\"Tashbaan capital of the fictional land of Calormen in the Chronicles of Narnia\",\n",
    "               \"Empire Bay- Fictional city inspired by New York in Mafia II\",\"Omelas — utopian city from the short story The Ones Who Walk Away From Omelas by Ursula K. Le Guin\",\n",
    "               \"St. Erasmus and St. Elmo's- fictional island in the South Caribbean\", \"The City of Dreadful Night by James Thomson\",\n",
    "               \"Isidora from Le città invisibili by Italo Calvino.\",\"PYRUS- capital city of Genovia from the movie the princess diaries\",\n",
    "               \"Math a fictional state in an unpublished book 'Math Genius'\",\"DenCity or DenTechCity\", \"Ephebe -somewhat Grecian city on the Circle Sea in Terry Pratchett's Discworld. Ruled by the \"]\n",
    "list_replace = ['Emmerdale','Capitol City',\"Walton's Mountain\",'El-Ysa','Kamurocho','Everville','Earth City','Chronopolis', 'Villette','Ramgarh','Tashbaan',\"Empire Bay\",\"Omelas\",\n",
    "               \"St. Erasmus and St. Elmo's\",\"The City of Dreadful Night\",\"Isidora\",\"Pyrus\", \"Math\",'DenCity','Ephebe']\n",
    "\n",
    "set1 = set(list_cities)\n",
    "set2 = set(list_special)\n",
    "list_cities = list(set1 - set2)\n",
    "list_cities = list_cities+list_replace\n",
    "\n",
    "\n",
    "print('Number of cities:',len(list_cities))\n",
    "display(list_cities[0:10])\n",
    "\n",
    "#reducing dataset\n",
    "#list_cities = list_cities[::2]\n",
    "print('Number of cities:',len(list_cities))"
   ]
  },
  {
   "cell_type": "markdown",
   "metadata": {
    "id": "DD524b4X5L5z"
   },
   "source": [
    "### 1.2 Creating the categories\n",
    "Looking at websites that sell travel packages, we see lots of categories that are too similar. So here we defined ten different classes that represent most of the options. We are doing this so that each activity is only tagged by one of the categories."
   ]
  },
  {
   "cell_type": "code",
   "execution_count": 4,
   "metadata": {
    "execution": {
     "iopub.execute_input": "2022-01-13T14:30:00.762922Z",
     "iopub.status.busy": "2022-01-13T14:30:00.762685Z",
     "iopub.status.idle": "2022-01-13T14:30:00.768497Z",
     "shell.execute_reply": "2022-01-13T14:30:00.767625Z",
     "shell.execute_reply.started": "2022-01-13T14:30:00.762895Z"
    },
    "id": "gM1LmYOy5L50"
   },
   "outputs": [],
   "source": [
    "categories = ['Food','Parks','Museums','Hiking','Beach','Romantic','History','Music','Theater','Sports']"
   ]
  },
  {
   "cell_type": "markdown",
   "metadata": {
    "id": "1yHYvG3Y5L51"
   },
   "source": [
    "### 1.3 Adding the activites to the cities\n",
    "For each city from our list, we will randomly pick a number of activities, each one assigned to one of the categories above."
   ]
  },
  {
   "cell_type": "code",
   "execution_count": 5,
   "metadata": {
    "execution": {
     "iopub.execute_input": "2022-01-13T14:30:00.770105Z",
     "iopub.status.busy": "2022-01-13T14:30:00.769860Z",
     "iopub.status.idle": "2022-01-13T14:30:00.803597Z",
     "shell.execute_reply": "2022-01-13T14:30:00.802733Z",
     "shell.execute_reply.started": "2022-01-13T14:30:00.770076Z"
    },
    "id": "O1yhbEWZ5L51",
    "outputId": "0e95b874-89f1-4976-a425-59eeb121ba55"
   },
   "outputs": [
    {
     "data": {
      "text/plain": [
       "['Dogville',\n",
       " 'Food',\n",
       " 'Hiking',\n",
       " 'Food',\n",
       " 'Parks',\n",
       " 'Beach',\n",
       " 'Theater',\n",
       " 'Theater',\n",
       " 'Food',\n",
       " 'Parks',\n",
       " 'Romantic',\n",
       " 'Beach',\n",
       " 'Hiking',\n",
       " 'Sports',\n",
       " 'Beach',\n",
       " 'History',\n",
       " 'Sports',\n",
       " 'Music',\n",
       " 'Romantic',\n",
       " 'Sports']"
      ]
     },
     "execution_count": 5,
     "metadata": {},
     "output_type": "execute_result"
    }
   ],
   "source": [
    "cities_activities = []\n",
    "check_num_act = []\n",
    "for city in list_cities:\n",
    "    temp = [city]\n",
    "    num_act = int(np.ceil(np.random.lognormal(2., 1.)))\n",
    "    if num_act > 50:\n",
    "        num_act = 50\n",
    "    elif num_act == 0:\n",
    "        num_act = 1\n",
    "    check_num_act.append(num_act)\n",
    "    for ii in range(num_act):\n",
    "        temp.append(categories[random.randint(0,9)]) \n",
    "    cities_activities.append(temp)\n",
    "cities_activities[0]"
   ]
  },
  {
   "cell_type": "markdown",
   "metadata": {
    "id": "EaYn0Vxa5L52"
   },
   "source": [
    "We can check if our distribution meets our expectation by plotting the histogram of the number of cities with a certain number of activities."
   ]
  },
  {
   "cell_type": "code",
   "execution_count": 6,
   "metadata": {
    "execution": {
     "iopub.execute_input": "2022-01-13T14:30:00.805597Z",
     "iopub.status.busy": "2022-01-13T14:30:00.805286Z",
     "iopub.status.idle": "2022-01-13T14:30:01.091221Z",
     "shell.execute_reply": "2022-01-13T14:30:01.090486Z",
     "shell.execute_reply.started": "2022-01-13T14:30:00.805555Z"
    },
    "id": "S9MJPMV-5L53",
    "outputId": "9429e53c-55c7-4f29-a09f-5375c293d6ea"
   },
   "outputs": [
    {
     "data": {
      "image/png": "[encoded data removed]",
      "text/plain": [
       "<Figure size 432x288 with 1 Axes>"
      ]
     },
     "metadata": {
      "needs_background": "light"
     },
     "output_type": "display_data"
    }
   ],
   "source": [
    "plt.hist(check_num_act,bins=50)\n",
    "plt.xlabel('# of Activities')\n",
    "plt.ylabel('# of Cities')\n",
    "plt.show()"
   ]
  },
  {
   "cell_type": "markdown",
   "metadata": {
    "id": "_6tJscEm5L53"
   },
   "source": [
    "Let's turn this list of cities and activities into a dataframe and then export the file for later use."
   ]
  },
  {
   "cell_type": "code",
   "execution_count": 7,
   "metadata": {
    "execution": {
     "iopub.execute_input": "2022-01-13T14:30:01.095429Z",
     "iopub.status.busy": "2022-01-13T14:30:01.092485Z",
     "iopub.status.idle": "2022-01-13T14:30:01.101563Z",
     "shell.execute_reply": "2022-01-13T14:30:01.100715Z",
     "shell.execute_reply.started": "2022-01-13T14:30:01.095389Z"
    },
    "id": "KrGr4mDm5L53",
    "outputId": "5b1a1d76-f69b-4820-f9c7-22606d3972ab"
   },
   "outputs": [
    {
     "name": "stdout",
     "output_type": "stream",
     "text": [
      "['City', 'Activity01', 'Activity02', 'Activity03', 'Activity04', 'Activity05', 'Activity06', 'Activity07', 'Activity08', 'Activity09', 'Activity10', 'Activity11', 'Activity12', 'Activity13', 'Activity14', 'Activity15', 'Activity16', 'Activity17', 'Activity18', 'Activity19', 'Activity20', 'Activity21', 'Activity22', 'Activity23', 'Activity24', 'Activity25', 'Activity26', 'Activity27', 'Activity28', 'Activity29', 'Activity30', 'Activity31', 'Activity32', 'Activity33', 'Activity34', 'Activity35', 'Activity36', 'Activity37', 'Activity38', 'Activity39', 'Activity40', 'Activity41', 'Activity42', 'Activity43', 'Activity44', 'Activity45', 'Activity46', 'Activity47', 'Activity48', 'Activity49', 'Activity50']\n"
     ]
    }
   ],
   "source": [
    "columns_df = ['City']\n",
    "for ii in range(50):\n",
    "    if len(str(ii+1))<2:\n",
    "        temp = 'Activity0'+str(ii+1)\n",
    "    else:\n",
    "        temp = 'Activity'+str(ii+1)\n",
    "    columns_df.append(temp)\n",
    "print(columns_df)"
   ]
  },
  {
   "cell_type": "code",
   "execution_count": 8,
   "metadata": {
    "execution": {
     "iopub.execute_input": "2022-01-13T14:30:01.103265Z",
     "iopub.status.busy": "2022-01-13T14:30:01.102933Z",
     "iopub.status.idle": "2022-01-13T14:30:01.140714Z",
     "shell.execute_reply": "2022-01-13T14:30:01.139966Z",
     "shell.execute_reply.started": "2022-01-13T14:30:01.103223Z"
    },
    "id": "yEWY4Zqc5L54",
    "outputId": "f935eafc-092e-4c0b-e1eb-0eadb5f3c0fe"
   },
   "outputs": [
    {
     "data": {
      "text/html": [
       "<div>\n",
       "<style scoped>\n",
       "    .dataframe tbody tr th:only-of-type {\n",
       "        vertical-align: middle;\n",
       "    }\n",
       "\n",
       "    .dataframe tbody tr th {\n",
       "        vertical-align: top;\n",
       "    }\n",
       "\n",
       "    .dataframe thead th {\n",
       "        text-align: right;\n",
       "    }\n",
       "</style>\n",
       "<table border=\"1\" class=\"dataframe\">\n",
       "  <thead>\n",
       "    <tr style=\"text-align: right;\">\n",
       "      <th></th>\n",
       "      <th>City</th>\n",
       "      <th>Activity01</th>\n",
       "      <th>Activity02</th>\n",
       "      <th>Activity03</th>\n",
       "      <th>Activity04</th>\n",
       "      <th>Activity05</th>\n",
       "      <th>Activity06</th>\n",
       "      <th>Activity07</th>\n",
       "      <th>Activity08</th>\n",
       "      <th>Activity09</th>\n",
       "      <th>...</th>\n",
       "      <th>Activity41</th>\n",
       "      <th>Activity42</th>\n",
       "      <th>Activity43</th>\n",
       "      <th>Activity44</th>\n",
       "      <th>Activity45</th>\n",
       "      <th>Activity46</th>\n",
       "      <th>Activity47</th>\n",
       "      <th>Activity48</th>\n",
       "      <th>Activity49</th>\n",
       "      <th>Activity50</th>\n",
       "    </tr>\n",
       "  </thead>\n",
       "  <tbody>\n",
       "    <tr>\n",
       "      <th>0</th>\n",
       "      <td>Dogville</td>\n",
       "      <td>Food</td>\n",
       "      <td>Hiking</td>\n",
       "      <td>Food</td>\n",
       "      <td>Parks</td>\n",
       "      <td>Beach</td>\n",
       "      <td>Theater</td>\n",
       "      <td>Theater</td>\n",
       "      <td>Food</td>\n",
       "      <td>Parks</td>\n",
       "      <td>...</td>\n",
       "      <td>None</td>\n",
       "      <td>None</td>\n",
       "      <td>None</td>\n",
       "      <td>None</td>\n",
       "      <td>None</td>\n",
       "      <td>None</td>\n",
       "      <td>None</td>\n",
       "      <td>None</td>\n",
       "      <td>None</td>\n",
       "      <td>None</td>\n",
       "    </tr>\n",
       "    <tr>\n",
       "      <th>1</th>\n",
       "      <td>Idris</td>\n",
       "      <td>Food</td>\n",
       "      <td>Music</td>\n",
       "      <td>Sports</td>\n",
       "      <td>Music</td>\n",
       "      <td>Theater</td>\n",
       "      <td>Sports</td>\n",
       "      <td>Museums</td>\n",
       "      <td>None</td>\n",
       "      <td>None</td>\n",
       "      <td>...</td>\n",
       "      <td>None</td>\n",
       "      <td>None</td>\n",
       "      <td>None</td>\n",
       "      <td>None</td>\n",
       "      <td>None</td>\n",
       "      <td>None</td>\n",
       "      <td>None</td>\n",
       "      <td>None</td>\n",
       "      <td>None</td>\n",
       "      <td>None</td>\n",
       "    </tr>\n",
       "    <tr>\n",
       "      <th>2</th>\n",
       "      <td>Newtropolis</td>\n",
       "      <td>Music</td>\n",
       "      <td>Music</td>\n",
       "      <td>None</td>\n",
       "      <td>None</td>\n",
       "      <td>None</td>\n",
       "      <td>None</td>\n",
       "      <td>None</td>\n",
       "      <td>None</td>\n",
       "      <td>None</td>\n",
       "      <td>...</td>\n",
       "      <td>None</td>\n",
       "      <td>None</td>\n",
       "      <td>None</td>\n",
       "      <td>None</td>\n",
       "      <td>None</td>\n",
       "      <td>None</td>\n",
       "      <td>None</td>\n",
       "      <td>None</td>\n",
       "      <td>None</td>\n",
       "      <td>None</td>\n",
       "    </tr>\n",
       "    <tr>\n",
       "      <th>3</th>\n",
       "      <td>Greenback</td>\n",
       "      <td>Romantic</td>\n",
       "      <td>Beach</td>\n",
       "      <td>Music</td>\n",
       "      <td>Sports</td>\n",
       "      <td>None</td>\n",
       "      <td>None</td>\n",
       "      <td>None</td>\n",
       "      <td>None</td>\n",
       "      <td>None</td>\n",
       "      <td>...</td>\n",
       "      <td>None</td>\n",
       "      <td>None</td>\n",
       "      <td>None</td>\n",
       "      <td>None</td>\n",
       "      <td>None</td>\n",
       "      <td>None</td>\n",
       "      <td>None</td>\n",
       "      <td>None</td>\n",
       "      <td>None</td>\n",
       "      <td>None</td>\n",
       "    </tr>\n",
       "    <tr>\n",
       "      <th>4</th>\n",
       "      <td>Ravnica</td>\n",
       "      <td>Romantic</td>\n",
       "      <td>Theater</td>\n",
       "      <td>Theater</td>\n",
       "      <td>Sports</td>\n",
       "      <td>Sports</td>\n",
       "      <td>Theater</td>\n",
       "      <td>Romantic</td>\n",
       "      <td>Sports</td>\n",
       "      <td>History</td>\n",
       "      <td>...</td>\n",
       "      <td>None</td>\n",
       "      <td>None</td>\n",
       "      <td>None</td>\n",
       "      <td>None</td>\n",
       "      <td>None</td>\n",
       "      <td>None</td>\n",
       "      <td>None</td>\n",
       "      <td>None</td>\n",
       "      <td>None</td>\n",
       "      <td>None</td>\n",
       "    </tr>\n",
       "  </tbody>\n",
       "</table>\n",
       "<p>5 rows × 51 columns</p>\n",
       "</div>"
      ],
      "text/plain": [
       "          City Activity01 Activity02 Activity03 Activity04 Activity05  \\\n",
       "0     Dogville       Food     Hiking       Food      Parks      Beach   \n",
       "1        Idris       Food      Music     Sports      Music    Theater   \n",
       "2  Newtropolis      Music      Music       None       None       None   \n",
       "3    Greenback   Romantic      Beach      Music     Sports       None   \n",
       "4      Ravnica   Romantic    Theater    Theater     Sports     Sports   \n",
       "\n",
       "  Activity06 Activity07 Activity08 Activity09  ... Activity41 Activity42  \\\n",
       "0    Theater    Theater       Food      Parks  ...       None       None   \n",
       "1     Sports    Museums       None       None  ...       None       None   \n",
       "2       None       None       None       None  ...       None       None   \n",
       "3       None       None       None       None  ...       None       None   \n",
       "4    Theater   Romantic     Sports    History  ...       None       None   \n",
       "\n",
       "  Activity43 Activity44 Activity45 Activity46 Activity47 Activity48  \\\n",
       "0       None       None       None       None       None       None   \n",
       "1       None       None       None       None       None       None   \n",
       "2       None       None       None       None       None       None   \n",
       "3       None       None       None       None       None       None   \n",
       "4       None       None       None       None       None       None   \n",
       "\n",
       "  Activity49 Activity50  \n",
       "0       None       None  \n",
       "1       None       None  \n",
       "2       None       None  \n",
       "3       None       None  \n",
       "4       None       None  \n",
       "\n",
       "[5 rows x 51 columns]"
      ]
     },
     "execution_count": 8,
     "metadata": {},
     "output_type": "execute_result"
    }
   ],
   "source": [
    "city_table = pd.DataFrame(cities_activities,columns=columns_df)\n",
    "city_table.head()"
   ]
  },
  {
   "cell_type": "markdown",
   "metadata": {
    "id": "qfLCEFwC5L55"
   },
   "source": [
    "## 2. Creation of users and their history\n",
    "The idea here is to create a large number of users by choosing a set of cities and activities they previously visited. For each customer, we will randomly pick a number of cities they already visited and select some of the local available activities."
   ]
  },
  {
   "cell_type": "markdown",
   "metadata": {
    "id": "nQ-lv0-i5L55"
   },
   "source": [
    "### 2.1 Creating the users\n",
    "The first idea was to name the users as 'User_#####', but I found a list with the distribution of given names in Brazil, so that will be more interesting. I'm importing the table and will focus only on the names, not the distribution."
   ]
  },
  {
   "cell_type": "code",
   "execution_count": 9,
   "metadata": {
    "execution": {
     "iopub.execute_input": "2022-01-13T14:30:01.142437Z",
     "iopub.status.busy": "2022-01-13T14:30:01.141937Z",
     "iopub.status.idle": "2022-01-13T14:30:01.232960Z",
     "shell.execute_reply": "2022-01-13T14:30:01.232076Z",
     "shell.execute_reply.started": "2022-01-13T14:30:01.142394Z"
    }
   },
   "outputs": [
    {
     "data": {
      "text/html": [
       "<div>\n",
       "<style scoped>\n",
       "    .dataframe tbody tr th:only-of-type {\n",
       "        vertical-align: middle;\n",
       "    }\n",
       "\n",
       "    .dataframe tbody tr th {\n",
       "        vertical-align: top;\n",
       "    }\n",
       "\n",
       "    .dataframe thead th {\n",
       "        text-align: right;\n",
       "    }\n",
       "</style>\n",
       "<table border=\"1\" class=\"dataframe\">\n",
       "  <thead>\n",
       "    <tr style=\"text-align: right;\">\n",
       "      <th></th>\n",
       "      <th>Nome</th>\n",
       "    </tr>\n",
       "  </thead>\n",
       "  <tbody>\n",
       "    <tr>\n",
       "      <th>0</th>\n",
       "      <td>MARIA</td>\n",
       "    </tr>\n",
       "    <tr>\n",
       "      <th>1</th>\n",
       "      <td>JOSE</td>\n",
       "    </tr>\n",
       "    <tr>\n",
       "      <th>2</th>\n",
       "      <td>ANA</td>\n",
       "    </tr>\n",
       "    <tr>\n",
       "      <th>3</th>\n",
       "      <td>JOAO</td>\n",
       "    </tr>\n",
       "    <tr>\n",
       "      <th>4</th>\n",
       "      <td>ANTONIO</td>\n",
       "    </tr>\n",
       "  </tbody>\n",
       "</table>\n",
       "</div>"
      ],
      "text/plain": [
       "      Nome\n",
       "0    MARIA\n",
       "1     JOSE\n",
       "2      ANA\n",
       "3     JOAO\n",
       "4  ANTONIO"
      ]
     },
     "metadata": {},
     "output_type": "display_data"
    },
    {
     "name": "stdout",
     "output_type": "stream",
     "text": [
      "Number of users:  64458\n"
     ]
    }
   ],
   "source": [
    "user_input = pd.read_csv('ibgenomes.csv')\n",
    "user_input = user_input.drop(['total','percentual','popularidade'],axis=1)\n",
    "user_input.dropna(inplace=True)\n",
    "#user_input = user_input.loc[:int(len(user_input)/4)]\n",
    "\n",
    "display(user_input.head())\n",
    "print('Number of users: ',len(user_input))\n"
   ]
  },
  {
   "cell_type": "markdown",
   "metadata": {
    "id": "F9Lys1_r5L56"
   },
   "source": [
    "### 2.2 Selecting cities and activities\n",
    "Now we will create a list with user, city, activity and category. We again use a lognormal distribution to choose the number of cities visited by each user. We randomly select this number of cities. For each city, we count the number of activities available and randomly select how many the user has done, selecting which ones also randomly. "
   ]
  },
  {
   "cell_type": "code",
   "execution_count": 10,
   "metadata": {
    "execution": {
     "iopub.execute_input": "2022-01-13T14:30:01.236075Z",
     "iopub.status.busy": "2022-01-13T14:30:01.235811Z",
     "iopub.status.idle": "2022-01-13T14:30:32.227256Z",
     "shell.execute_reply": "2022-01-13T14:30:32.226405Z",
     "shell.execute_reply.started": "2022-01-13T14:30:01.236044Z"
    },
    "id": "V87e0rlf5L56",
    "outputId": "22f09762-074d-4ea4-b0a6-a71ebe0ecf99"
   },
   "outputs": [
    {
     "data": {
      "text/html": [
       "<div>\n",
       "<style scoped>\n",
       "    .dataframe tbody tr th:only-of-type {\n",
       "        vertical-align: middle;\n",
       "    }\n",
       "\n",
       "    .dataframe tbody tr th {\n",
       "        vertical-align: top;\n",
       "    }\n",
       "\n",
       "    .dataframe thead th {\n",
       "        text-align: right;\n",
       "    }\n",
       "</style>\n",
       "<table border=\"1\" class=\"dataframe\">\n",
       "  <thead>\n",
       "    <tr style=\"text-align: right;\">\n",
       "      <th></th>\n",
       "      <th>Name</th>\n",
       "      <th>City</th>\n",
       "      <th>Activity</th>\n",
       "      <th>Category</th>\n",
       "    </tr>\n",
       "  </thead>\n",
       "  <tbody>\n",
       "    <tr>\n",
       "      <th>0</th>\n",
       "      <td>MARIA</td>\n",
       "      <td>Spoonerville</td>\n",
       "      <td>Activity04</td>\n",
       "      <td>Parks</td>\n",
       "    </tr>\n",
       "    <tr>\n",
       "      <th>1</th>\n",
       "      <td>MARIA</td>\n",
       "      <td>Spoonerville</td>\n",
       "      <td>Activity03</td>\n",
       "      <td>Sports</td>\n",
       "    </tr>\n",
       "    <tr>\n",
       "      <th>2</th>\n",
       "      <td>MARIA</td>\n",
       "      <td>Spoonerville</td>\n",
       "      <td>Activity02</td>\n",
       "      <td>Museums</td>\n",
       "    </tr>\n",
       "    <tr>\n",
       "      <th>3</th>\n",
       "      <td>JOSE</td>\n",
       "      <td>Elwood City</td>\n",
       "      <td>Activity02</td>\n",
       "      <td>Romantic</td>\n",
       "    </tr>\n",
       "    <tr>\n",
       "      <th>4</th>\n",
       "      <td>ANA</td>\n",
       "      <td>Zanaris</td>\n",
       "      <td>Activity07</td>\n",
       "      <td>Parks</td>\n",
       "    </tr>\n",
       "  </tbody>\n",
       "</table>\n",
       "</div>"
      ],
      "text/plain": [
       "    Name          City    Activity  Category\n",
       "0  MARIA  Spoonerville  Activity04     Parks\n",
       "1  MARIA  Spoonerville  Activity03    Sports\n",
       "2  MARIA  Spoonerville  Activity02   Museums\n",
       "3   JOSE   Elwood City  Activity02  Romantic\n",
       "4    ANA       Zanaris  Activity07     Parks"
      ]
     },
     "execution_count": 10,
     "metadata": {},
     "output_type": "execute_result"
    }
   ],
   "source": [
    "user_history = []\n",
    "\n",
    "for name in user_input['Nome'].tolist():\n",
    "    num_cities = int(np.ceil(np.random.lognormal(.001, 1.)))\n",
    "    if num_cities>len(city_table):\n",
    "        num_cities=len(city_table)\n",
    "    \n",
    "    city_picks = random.sample(range(len(city_table)),num_cities)    \n",
    "    for city in city_picks:\n",
    "        num_act_city = 50-city_table.iloc[city,1:].isnull().sum()\n",
    "        num_act = random.randint(1,num_act_city)\n",
    "        act_picks = random.sample(range(num_act_city),num_act)\n",
    "        for act in act_picks:\n",
    "            user_history.append([name,city_table.iloc[city,0],columns_df[act+1],city_table.iloc[city,act+1]])\n",
    "\n",
    "columns_users = ['Name','City','Activity','Category']\n",
    "user_table = pd.DataFrame(user_history,columns=columns_users)\n",
    "user_table.head()"
   ]
  },
  {
   "cell_type": "markdown",
   "metadata": {
    "id": "KkBQgPzS5L57"
   },
   "source": [
    "## 3. Comparing cities\n",
    "From our table with the activities for each city, we will create a new table where each row represents a city and each column shows the proportion of its activities for each category. For a city with a single 'Hiking' activity, its row will have *1* in the 'Hiking' column. If a city has three activities ('Museums', 'Romantic', Ḿuseums'), it will have *0.67* in the 'Museums' column and *0.33* in the 'Romantic' one. <br>\n",
    "With this, we will have a vector describing each city and we can measure the similarities between two cities by the cosine similarity between their rows."
   ]
  },
  {
   "cell_type": "code",
   "execution_count": 11,
   "metadata": {
    "execution": {
     "iopub.execute_input": "2022-01-13T14:30:32.228585Z",
     "iopub.status.busy": "2022-01-13T14:30:32.228373Z",
     "iopub.status.idle": "2022-01-13T14:30:32.585094Z",
     "shell.execute_reply": "2022-01-13T14:30:32.584138Z",
     "shell.execute_reply.started": "2022-01-13T14:30:32.228560Z"
    },
    "id": "WLfFdirv5L57",
    "outputId": "b725220f-16af-4fea-f396-1389445e1956"
   },
   "outputs": [
    {
     "data": {
      "text/html": [
       "<div>\n",
       "<style scoped>\n",
       "    .dataframe tbody tr th:only-of-type {\n",
       "        vertical-align: middle;\n",
       "    }\n",
       "\n",
       "    .dataframe tbody tr th {\n",
       "        vertical-align: top;\n",
       "    }\n",
       "\n",
       "    .dataframe thead th {\n",
       "        text-align: right;\n",
       "    }\n",
       "</style>\n",
       "<table border=\"1\" class=\"dataframe\">\n",
       "  <thead>\n",
       "    <tr style=\"text-align: right;\">\n",
       "      <th></th>\n",
       "      <th>City</th>\n",
       "      <th>Food</th>\n",
       "      <th>Parks</th>\n",
       "      <th>Museums</th>\n",
       "      <th>Hiking</th>\n",
       "      <th>Beach</th>\n",
       "      <th>Romantic</th>\n",
       "      <th>History</th>\n",
       "      <th>Music</th>\n",
       "      <th>Theater</th>\n",
       "      <th>Sports</th>\n",
       "    </tr>\n",
       "  </thead>\n",
       "  <tbody>\n",
       "    <tr>\n",
       "      <th>0</th>\n",
       "      <td>Dogville</td>\n",
       "      <td>0.157895</td>\n",
       "      <td>0.105263</td>\n",
       "      <td>0.000000</td>\n",
       "      <td>0.105263</td>\n",
       "      <td>0.157895</td>\n",
       "      <td>0.105263</td>\n",
       "      <td>0.052632</td>\n",
       "      <td>0.052632</td>\n",
       "      <td>0.105263</td>\n",
       "      <td>0.157895</td>\n",
       "    </tr>\n",
       "    <tr>\n",
       "      <th>1</th>\n",
       "      <td>Idris</td>\n",
       "      <td>0.142857</td>\n",
       "      <td>0.000000</td>\n",
       "      <td>0.142857</td>\n",
       "      <td>0.000000</td>\n",
       "      <td>0.000000</td>\n",
       "      <td>0.000000</td>\n",
       "      <td>0.000000</td>\n",
       "      <td>0.285714</td>\n",
       "      <td>0.142857</td>\n",
       "      <td>0.285714</td>\n",
       "    </tr>\n",
       "    <tr>\n",
       "      <th>2</th>\n",
       "      <td>Newtropolis</td>\n",
       "      <td>0.000000</td>\n",
       "      <td>0.000000</td>\n",
       "      <td>0.000000</td>\n",
       "      <td>0.000000</td>\n",
       "      <td>0.000000</td>\n",
       "      <td>0.000000</td>\n",
       "      <td>0.000000</td>\n",
       "      <td>1.000000</td>\n",
       "      <td>0.000000</td>\n",
       "      <td>0.000000</td>\n",
       "    </tr>\n",
       "    <tr>\n",
       "      <th>3</th>\n",
       "      <td>Greenback</td>\n",
       "      <td>0.000000</td>\n",
       "      <td>0.000000</td>\n",
       "      <td>0.000000</td>\n",
       "      <td>0.000000</td>\n",
       "      <td>0.250000</td>\n",
       "      <td>0.250000</td>\n",
       "      <td>0.000000</td>\n",
       "      <td>0.250000</td>\n",
       "      <td>0.000000</td>\n",
       "      <td>0.250000</td>\n",
       "    </tr>\n",
       "    <tr>\n",
       "      <th>4</th>\n",
       "      <td>Ravnica</td>\n",
       "      <td>0.000000</td>\n",
       "      <td>0.000000</td>\n",
       "      <td>0.000000</td>\n",
       "      <td>0.000000</td>\n",
       "      <td>0.000000</td>\n",
       "      <td>0.222222</td>\n",
       "      <td>0.111111</td>\n",
       "      <td>0.000000</td>\n",
       "      <td>0.333333</td>\n",
       "      <td>0.333333</td>\n",
       "    </tr>\n",
       "  </tbody>\n",
       "</table>\n",
       "</div>"
      ],
      "text/plain": [
       "          City      Food     Parks   Museums    Hiking     Beach  Romantic  \\\n",
       "0     Dogville  0.157895  0.105263  0.000000  0.105263  0.157895  0.105263   \n",
       "1        Idris  0.142857  0.000000  0.142857  0.000000  0.000000  0.000000   \n",
       "2  Newtropolis  0.000000  0.000000  0.000000  0.000000  0.000000  0.000000   \n",
       "3    Greenback  0.000000  0.000000  0.000000  0.000000  0.250000  0.250000   \n",
       "4      Ravnica  0.000000  0.000000  0.000000  0.000000  0.000000  0.222222   \n",
       "\n",
       "    History     Music   Theater    Sports  \n",
       "0  0.052632  0.052632  0.105263  0.157895  \n",
       "1  0.000000  0.285714  0.142857  0.285714  \n",
       "2  0.000000  1.000000  0.000000  0.000000  \n",
       "3  0.000000  0.250000  0.000000  0.250000  \n",
       "4  0.111111  0.000000  0.333333  0.333333  "
      ]
     },
     "execution_count": 11,
     "metadata": {},
     "output_type": "execute_result"
    }
   ],
   "source": [
    "city_vector = city_table.apply(pd.Series.value_counts, axis=1)[categories].fillna(0)\n",
    "city_vector = city_vector.div(city_vector.sum(axis=1), axis=0)\n",
    "city_vector.insert(0, 'City', city_table['City'])\n",
    "city_vector.head()"
   ]
  },
  {
   "cell_type": "code",
   "execution_count": 12,
   "metadata": {
    "execution": {
     "iopub.execute_input": "2022-01-13T14:30:32.586867Z",
     "iopub.status.busy": "2022-01-13T14:30:32.586639Z",
     "iopub.status.idle": "2022-01-13T14:30:32.625364Z",
     "shell.execute_reply": "2022-01-13T14:30:32.624362Z",
     "shell.execute_reply.started": "2022-01-13T14:30:32.586838Z"
    },
    "id": "zfZHShjm5L58",
    "outputId": "9bdd9b0d-3013-46f6-f41e-7ad886af3be0"
   },
   "outputs": [
    {
     "data": {
      "text/html": [
       "<div>\n",
       "<style scoped>\n",
       "    .dataframe tbody tr th:only-of-type {\n",
       "        vertical-align: middle;\n",
       "    }\n",
       "\n",
       "    .dataframe tbody tr th {\n",
       "        vertical-align: top;\n",
       "    }\n",
       "\n",
       "    .dataframe thead th {\n",
       "        text-align: right;\n",
       "    }\n",
       "</style>\n",
       "<table border=\"1\" class=\"dataframe\">\n",
       "  <thead>\n",
       "    <tr style=\"text-align: right;\">\n",
       "      <th></th>\n",
       "      <th>City</th>\n",
       "      <th>Food</th>\n",
       "      <th>Parks</th>\n",
       "      <th>Museums</th>\n",
       "      <th>Hiking</th>\n",
       "      <th>Beach</th>\n",
       "      <th>Romantic</th>\n",
       "      <th>History</th>\n",
       "      <th>Music</th>\n",
       "      <th>Theater</th>\n",
       "      <th>Sports</th>\n",
       "    </tr>\n",
       "  </thead>\n",
       "  <tbody>\n",
       "    <tr>\n",
       "      <th>742</th>\n",
       "      <td>Ashton</td>\n",
       "      <td>0.0</td>\n",
       "      <td>0.0</td>\n",
       "      <td>0.100000</td>\n",
       "      <td>0.200000</td>\n",
       "      <td>0.100000</td>\n",
       "      <td>0.100000</td>\n",
       "      <td>0.300000</td>\n",
       "      <td>0.1</td>\n",
       "      <td>0.1</td>\n",
       "      <td>0.0</td>\n",
       "    </tr>\n",
       "    <tr>\n",
       "      <th>865</th>\n",
       "      <td>Metro City</td>\n",
       "      <td>0.0</td>\n",
       "      <td>0.0</td>\n",
       "      <td>0.166667</td>\n",
       "      <td>0.333333</td>\n",
       "      <td>0.166667</td>\n",
       "      <td>0.166667</td>\n",
       "      <td>0.166667</td>\n",
       "      <td>0.0</td>\n",
       "      <td>0.0</td>\n",
       "      <td>0.0</td>\n",
       "    </tr>\n",
       "  </tbody>\n",
       "</table>\n",
       "</div>"
      ],
      "text/plain": [
       "           City  Food  Parks   Museums    Hiking     Beach  Romantic  \\\n",
       "742      Ashton   0.0    0.0  0.100000  0.200000  0.100000  0.100000   \n",
       "865  Metro City   0.0    0.0  0.166667  0.333333  0.166667  0.166667   \n",
       "\n",
       "      History  Music  Theater  Sports  \n",
       "742  0.300000    0.1      0.1     0.0  \n",
       "865  0.166667    0.0      0.0     0.0  "
      ]
     },
     "metadata": {},
     "output_type": "display_data"
    },
    {
     "name": "stdout",
     "output_type": "stream",
     "text": [
      "Cosine similarity between  Metro City and  Ashton is  0.8333333333333333\n"
     ]
    },
    {
     "data": {
      "text/html": [
       "<div>\n",
       "<style scoped>\n",
       "    .dataframe tbody tr th:only-of-type {\n",
       "        vertical-align: middle;\n",
       "    }\n",
       "\n",
       "    .dataframe tbody tr th {\n",
       "        vertical-align: top;\n",
       "    }\n",
       "\n",
       "    .dataframe thead th {\n",
       "        text-align: right;\n",
       "    }\n",
       "</style>\n",
       "<table border=\"1\" class=\"dataframe\">\n",
       "  <thead>\n",
       "    <tr style=\"text-align: right;\">\n",
       "      <th></th>\n",
       "      <th>City</th>\n",
       "      <th>Food</th>\n",
       "      <th>Parks</th>\n",
       "      <th>Museums</th>\n",
       "      <th>Hiking</th>\n",
       "      <th>Beach</th>\n",
       "      <th>Romantic</th>\n",
       "      <th>History</th>\n",
       "      <th>Music</th>\n",
       "      <th>Theater</th>\n",
       "      <th>Sports</th>\n",
       "    </tr>\n",
       "  </thead>\n",
       "  <tbody>\n",
       "    <tr>\n",
       "      <th>24</th>\n",
       "      <td>Fairvale</td>\n",
       "      <td>0.000000</td>\n",
       "      <td>0.0</td>\n",
       "      <td>0.000000</td>\n",
       "      <td>0.333333</td>\n",
       "      <td>0.000000</td>\n",
       "      <td>0.0</td>\n",
       "      <td>0.166667</td>\n",
       "      <td>0.333333</td>\n",
       "      <td>0.000000</td>\n",
       "      <td>0.166667</td>\n",
       "    </tr>\n",
       "    <tr>\n",
       "      <th>803</th>\n",
       "      <td>Mugsborough</td>\n",
       "      <td>0.142857</td>\n",
       "      <td>0.0</td>\n",
       "      <td>0.142857</td>\n",
       "      <td>0.000000</td>\n",
       "      <td>0.285714</td>\n",
       "      <td>0.0</td>\n",
       "      <td>0.142857</td>\n",
       "      <td>0.000000</td>\n",
       "      <td>0.142857</td>\n",
       "      <td>0.142857</td>\n",
       "    </tr>\n",
       "  </tbody>\n",
       "</table>\n",
       "</div>"
      ],
      "text/plain": [
       "            City      Food  Parks   Museums    Hiking     Beach  Romantic  \\\n",
       "24      Fairvale  0.000000    0.0  0.000000  0.333333  0.000000       0.0   \n",
       "803  Mugsborough  0.142857    0.0  0.142857  0.000000  0.285714       0.0   \n",
       "\n",
       "      History     Music   Theater    Sports  \n",
       "24   0.166667  0.333333  0.000000  0.166667  \n",
       "803  0.142857  0.000000  0.142857  0.142857  "
      ]
     },
     "metadata": {},
     "output_type": "display_data"
    },
    {
     "name": "stdout",
     "output_type": "stream",
     "text": [
      "Cosine similarity between  Mugsborough and  Fairvale is  0.21081851067789192\n"
     ]
    }
   ],
   "source": [
    "for ii in range(2):\n",
    "    city_picks = random.sample(range(len(city_vector)),2)\n",
    "    display(city_vector[city_vector.index.isin(city_picks)])\n",
    "    print('Cosine similarity between ',city_vector.iloc[city_picks[0],0],'and ',city_vector.iloc[city_picks[1],0],'is ',float(cosine_similarity([city_vector.iloc[city_picks[0],1:]],[city_vector.iloc[city_picks[1],1:]])))"
   ]
  },
  {
   "cell_type": "markdown",
   "metadata": {
    "id": "9X1DPXUl5L58"
   },
   "source": [
    "What we want is to find the cities with the highest cosine similarity to our target. So let's try to find the cities most similar to our first city."
   ]
  },
  {
   "cell_type": "code",
   "execution_count": 13,
   "metadata": {
    "execution": {
     "iopub.execute_input": "2022-01-13T14:30:32.627289Z",
     "iopub.status.busy": "2022-01-13T14:30:32.626910Z",
     "iopub.status.idle": "2022-01-13T14:30:33.122296Z",
     "shell.execute_reply": "2022-01-13T14:30:33.121368Z",
     "shell.execute_reply.started": "2022-01-13T14:30:32.627242Z"
    },
    "id": "4KBvyYtZ5L58",
    "outputId": "89eb35b6-ad65-40b5-92aa-f1ed4a174b61"
   },
   "outputs": [
    {
     "data": {
      "text/html": [
       "<div>\n",
       "<style scoped>\n",
       "    .dataframe tbody tr th:only-of-type {\n",
       "        vertical-align: middle;\n",
       "    }\n",
       "\n",
       "    .dataframe tbody tr th {\n",
       "        vertical-align: top;\n",
       "    }\n",
       "\n",
       "    .dataframe thead th {\n",
       "        text-align: right;\n",
       "    }\n",
       "</style>\n",
       "<table border=\"1\" class=\"dataframe\">\n",
       "  <thead>\n",
       "    <tr style=\"text-align: right;\">\n",
       "      <th></th>\n",
       "      <th>City</th>\n",
       "      <th>Similarity</th>\n",
       "    </tr>\n",
       "  </thead>\n",
       "  <tbody>\n",
       "    <tr>\n",
       "      <th>0</th>\n",
       "      <td>Dogville</td>\n",
       "      <td>1</td>\n",
       "    </tr>\n",
       "    <tr>\n",
       "      <th>712</th>\n",
       "      <td>Mido</td>\n",
       "      <td>0.967037</td>\n",
       "    </tr>\n",
       "    <tr>\n",
       "      <th>467</th>\n",
       "      <td>New York City</td>\n",
       "      <td>0.957841</td>\n",
       "    </tr>\n",
       "    <tr>\n",
       "      <th>760</th>\n",
       "      <td>Wellsville</td>\n",
       "      <td>0.95758</td>\n",
       "    </tr>\n",
       "    <tr>\n",
       "      <th>570</th>\n",
       "      <td>Hyrule</td>\n",
       "      <td>0.955556</td>\n",
       "    </tr>\n",
       "    <tr>\n",
       "      <th>173</th>\n",
       "      <td>Newford</td>\n",
       "      <td>0.942596</td>\n",
       "    </tr>\n",
       "    <tr>\n",
       "      <th>974</th>\n",
       "      <td>Chronopolis</td>\n",
       "      <td>0.934199</td>\n",
       "    </tr>\n",
       "    <tr>\n",
       "      <th>69</th>\n",
       "      <td>Sheepridge</td>\n",
       "      <td>0.931594</td>\n",
       "    </tr>\n",
       "    <tr>\n",
       "      <th>869</th>\n",
       "      <td>New Quahog</td>\n",
       "      <td>0.928344</td>\n",
       "    </tr>\n",
       "    <tr>\n",
       "      <th>625</th>\n",
       "      <td>Digitopolis</td>\n",
       "      <td>0.923154</td>\n",
       "    </tr>\n",
       "    <tr>\n",
       "      <th>303</th>\n",
       "      <td>Highland</td>\n",
       "      <td>0.922531</td>\n",
       "    </tr>\n",
       "    <tr>\n",
       "      <th>679</th>\n",
       "      <td>Citytropolis</td>\n",
       "      <td>0.918583</td>\n",
       "    </tr>\n",
       "    <tr>\n",
       "      <th>200</th>\n",
       "      <td>Collinsport</td>\n",
       "      <td>0.912727</td>\n",
       "    </tr>\n",
       "    <tr>\n",
       "      <th>806</th>\n",
       "      <td>Chamberlain</td>\n",
       "      <td>0.910315</td>\n",
       "    </tr>\n",
       "    <tr>\n",
       "      <th>324</th>\n",
       "      <td>Zaira</td>\n",
       "      <td>0.906765</td>\n",
       "    </tr>\n",
       "    <tr>\n",
       "      <th>629</th>\n",
       "      <td>Bursley</td>\n",
       "      <td>0.905808</td>\n",
       "    </tr>\n",
       "    <tr>\n",
       "      <th>666</th>\n",
       "      <td>Spaceport Five Overcity</td>\n",
       "      <td>0.904534</td>\n",
       "    </tr>\n",
       "    <tr>\n",
       "      <th>82</th>\n",
       "      <td>Frostbite Falls</td>\n",
       "      <td>0.904177</td>\n",
       "    </tr>\n",
       "    <tr>\n",
       "      <th>856</th>\n",
       "      <td>Castle Revolving</td>\n",
       "      <td>0.902921</td>\n",
       "    </tr>\n",
       "    <tr>\n",
       "      <th>395</th>\n",
       "      <td>Traverse Town</td>\n",
       "      <td>0.901153</td>\n",
       "    </tr>\n",
       "  </tbody>\n",
       "</table>\n",
       "</div>"
      ],
      "text/plain": [
       "                        City Similarity\n",
       "0                   Dogville          1\n",
       "712                     Mido   0.967037\n",
       "467            New York City   0.957841\n",
       "760               Wellsville    0.95758\n",
       "570                   Hyrule   0.955556\n",
       "173                  Newford   0.942596\n",
       "974              Chronopolis   0.934199\n",
       "69                Sheepridge   0.931594\n",
       "869               New Quahog   0.928344\n",
       "625              Digitopolis   0.923154\n",
       "303                 Highland   0.922531\n",
       "679             Citytropolis   0.918583\n",
       "200              Collinsport   0.912727\n",
       "806              Chamberlain   0.910315\n",
       "324                    Zaira   0.906765\n",
       "629                  Bursley   0.905808\n",
       "666  Spaceport Five Overcity   0.904534\n",
       "82           Frostbite Falls   0.904177\n",
       "856         Castle Revolving   0.902921\n",
       "395            Traverse Town   0.901153"
      ]
     },
     "execution_count": 13,
     "metadata": {},
     "output_type": "execute_result"
    }
   ],
   "source": [
    "corr_df = pd.DataFrame(columns=['City','Similarity'])\n",
    "corr_df['City'] = city_vector['City']\n",
    "for ii in range(len(city_vector)):\n",
    "    corr_df.iloc[ii,1] = float(cosine_similarity([city_vector.iloc[0,1:]],[city_vector.iloc[ii,1:]]))\n",
    "corr_df = corr_df.sort_values(by='Similarity',ascending=False)\n",
    "corr_df[corr_df['Similarity']>0.9]"
   ]
  },
  {
   "cell_type": "markdown",
   "metadata": {
    "id": "Anm0kouf5L58"
   },
   "source": [
    "We now have the list of the cities most similar to our first city. We can confirm this by displaying the vectors of those cities."
   ]
  },
  {
   "cell_type": "code",
   "execution_count": 14,
   "metadata": {
    "execution": {
     "iopub.execute_input": "2022-01-13T14:30:33.124652Z",
     "iopub.status.busy": "2022-01-13T14:30:33.123785Z",
     "iopub.status.idle": "2022-01-13T14:30:33.144754Z",
     "shell.execute_reply": "2022-01-13T14:30:33.143823Z",
     "shell.execute_reply.started": "2022-01-13T14:30:33.124604Z"
    },
    "id": "qJIdgJhn5L59",
    "outputId": "5bffcd38-64dd-42fb-c5af-285edbe031fa",
    "scrolled": true
   },
   "outputs": [
    {
     "data": {
      "text/html": [
       "<div>\n",
       "<style scoped>\n",
       "    .dataframe tbody tr th:only-of-type {\n",
       "        vertical-align: middle;\n",
       "    }\n",
       "\n",
       "    .dataframe tbody tr th {\n",
       "        vertical-align: top;\n",
       "    }\n",
       "\n",
       "    .dataframe thead th {\n",
       "        text-align: right;\n",
       "    }\n",
       "</style>\n",
       "<table border=\"1\" class=\"dataframe\">\n",
       "  <thead>\n",
       "    <tr style=\"text-align: right;\">\n",
       "      <th></th>\n",
       "      <th>City</th>\n",
       "      <th>Food</th>\n",
       "      <th>Parks</th>\n",
       "      <th>Museums</th>\n",
       "      <th>Hiking</th>\n",
       "      <th>Beach</th>\n",
       "      <th>Romantic</th>\n",
       "      <th>History</th>\n",
       "      <th>Music</th>\n",
       "      <th>Theater</th>\n",
       "      <th>Sports</th>\n",
       "    </tr>\n",
       "  </thead>\n",
       "  <tbody>\n",
       "    <tr>\n",
       "      <th>0</th>\n",
       "      <td>Dogville</td>\n",
       "      <td>0.157895</td>\n",
       "      <td>0.105263</td>\n",
       "      <td>0.000000</td>\n",
       "      <td>0.105263</td>\n",
       "      <td>0.157895</td>\n",
       "      <td>0.105263</td>\n",
       "      <td>0.052632</td>\n",
       "      <td>0.052632</td>\n",
       "      <td>0.105263</td>\n",
       "      <td>0.157895</td>\n",
       "    </tr>\n",
       "    <tr>\n",
       "      <th>69</th>\n",
       "      <td>Sheepridge</td>\n",
       "      <td>0.205128</td>\n",
       "      <td>0.102564</td>\n",
       "      <td>0.025641</td>\n",
       "      <td>0.102564</td>\n",
       "      <td>0.051282</td>\n",
       "      <td>0.102564</td>\n",
       "      <td>0.076923</td>\n",
       "      <td>0.076923</td>\n",
       "      <td>0.128205</td>\n",
       "      <td>0.128205</td>\n",
       "    </tr>\n",
       "    <tr>\n",
       "      <th>82</th>\n",
       "      <td>Frostbite Falls</td>\n",
       "      <td>0.140000</td>\n",
       "      <td>0.060000</td>\n",
       "      <td>0.060000</td>\n",
       "      <td>0.140000</td>\n",
       "      <td>0.060000</td>\n",
       "      <td>0.140000</td>\n",
       "      <td>0.120000</td>\n",
       "      <td>0.040000</td>\n",
       "      <td>0.080000</td>\n",
       "      <td>0.160000</td>\n",
       "    </tr>\n",
       "    <tr>\n",
       "      <th>173</th>\n",
       "      <td>Newford</td>\n",
       "      <td>0.111111</td>\n",
       "      <td>0.088889</td>\n",
       "      <td>0.088889</td>\n",
       "      <td>0.111111</td>\n",
       "      <td>0.155556</td>\n",
       "      <td>0.088889</td>\n",
       "      <td>0.066667</td>\n",
       "      <td>0.044444</td>\n",
       "      <td>0.133333</td>\n",
       "      <td>0.111111</td>\n",
       "    </tr>\n",
       "    <tr>\n",
       "      <th>200</th>\n",
       "      <td>Collinsport</td>\n",
       "      <td>0.060606</td>\n",
       "      <td>0.121212</td>\n",
       "      <td>0.060606</td>\n",
       "      <td>0.090909</td>\n",
       "      <td>0.181818</td>\n",
       "      <td>0.151515</td>\n",
       "      <td>0.060606</td>\n",
       "      <td>0.090909</td>\n",
       "      <td>0.060606</td>\n",
       "      <td>0.121212</td>\n",
       "    </tr>\n",
       "    <tr>\n",
       "      <th>303</th>\n",
       "      <td>Highland</td>\n",
       "      <td>0.100000</td>\n",
       "      <td>0.100000</td>\n",
       "      <td>0.066667</td>\n",
       "      <td>0.100000</td>\n",
       "      <td>0.133333</td>\n",
       "      <td>0.100000</td>\n",
       "      <td>0.133333</td>\n",
       "      <td>0.066667</td>\n",
       "      <td>0.100000</td>\n",
       "      <td>0.100000</td>\n",
       "    </tr>\n",
       "    <tr>\n",
       "      <th>324</th>\n",
       "      <td>Zaira</td>\n",
       "      <td>0.117647</td>\n",
       "      <td>0.000000</td>\n",
       "      <td>0.058824</td>\n",
       "      <td>0.058824</td>\n",
       "      <td>0.176471</td>\n",
       "      <td>0.117647</td>\n",
       "      <td>0.117647</td>\n",
       "      <td>0.058824</td>\n",
       "      <td>0.117647</td>\n",
       "      <td>0.176471</td>\n",
       "    </tr>\n",
       "    <tr>\n",
       "      <th>395</th>\n",
       "      <td>Traverse Town</td>\n",
       "      <td>0.100000</td>\n",
       "      <td>0.100000</td>\n",
       "      <td>0.050000</td>\n",
       "      <td>0.100000</td>\n",
       "      <td>0.050000</td>\n",
       "      <td>0.150000</td>\n",
       "      <td>0.050000</td>\n",
       "      <td>0.100000</td>\n",
       "      <td>0.150000</td>\n",
       "      <td>0.150000</td>\n",
       "    </tr>\n",
       "    <tr>\n",
       "      <th>467</th>\n",
       "      <td>New York City</td>\n",
       "      <td>0.142857</td>\n",
       "      <td>0.142857</td>\n",
       "      <td>0.000000</td>\n",
       "      <td>0.142857</td>\n",
       "      <td>0.142857</td>\n",
       "      <td>0.142857</td>\n",
       "      <td>0.000000</td>\n",
       "      <td>0.000000</td>\n",
       "      <td>0.142857</td>\n",
       "      <td>0.142857</td>\n",
       "    </tr>\n",
       "    <tr>\n",
       "      <th>570</th>\n",
       "      <td>Hyrule</td>\n",
       "      <td>0.157895</td>\n",
       "      <td>0.157895</td>\n",
       "      <td>0.052632</td>\n",
       "      <td>0.105263</td>\n",
       "      <td>0.157895</td>\n",
       "      <td>0.105263</td>\n",
       "      <td>0.000000</td>\n",
       "      <td>0.052632</td>\n",
       "      <td>0.105263</td>\n",
       "      <td>0.105263</td>\n",
       "    </tr>\n",
       "    <tr>\n",
       "      <th>625</th>\n",
       "      <td>Digitopolis</td>\n",
       "      <td>0.100000</td>\n",
       "      <td>0.100000</td>\n",
       "      <td>0.100000</td>\n",
       "      <td>0.140000</td>\n",
       "      <td>0.120000</td>\n",
       "      <td>0.120000</td>\n",
       "      <td>0.060000</td>\n",
       "      <td>0.060000</td>\n",
       "      <td>0.080000</td>\n",
       "      <td>0.120000</td>\n",
       "    </tr>\n",
       "    <tr>\n",
       "      <th>629</th>\n",
       "      <td>Bursley</td>\n",
       "      <td>0.073171</td>\n",
       "      <td>0.146341</td>\n",
       "      <td>0.024390</td>\n",
       "      <td>0.121951</td>\n",
       "      <td>0.170732</td>\n",
       "      <td>0.048780</td>\n",
       "      <td>0.097561</td>\n",
       "      <td>0.121951</td>\n",
       "      <td>0.048780</td>\n",
       "      <td>0.146341</td>\n",
       "    </tr>\n",
       "    <tr>\n",
       "      <th>666</th>\n",
       "      <td>Spaceport Five Overcity</td>\n",
       "      <td>0.113636</td>\n",
       "      <td>0.181818</td>\n",
       "      <td>0.090909</td>\n",
       "      <td>0.090909</td>\n",
       "      <td>0.113636</td>\n",
       "      <td>0.090909</td>\n",
       "      <td>0.090909</td>\n",
       "      <td>0.022727</td>\n",
       "      <td>0.090909</td>\n",
       "      <td>0.113636</td>\n",
       "    </tr>\n",
       "    <tr>\n",
       "      <th>679</th>\n",
       "      <td>Citytropolis</td>\n",
       "      <td>0.140000</td>\n",
       "      <td>0.100000</td>\n",
       "      <td>0.040000</td>\n",
       "      <td>0.120000</td>\n",
       "      <td>0.100000</td>\n",
       "      <td>0.080000</td>\n",
       "      <td>0.100000</td>\n",
       "      <td>0.140000</td>\n",
       "      <td>0.060000</td>\n",
       "      <td>0.120000</td>\n",
       "    </tr>\n",
       "    <tr>\n",
       "      <th>712</th>\n",
       "      <td>Mido</td>\n",
       "      <td>0.133333</td>\n",
       "      <td>0.088889</td>\n",
       "      <td>0.044444</td>\n",
       "      <td>0.111111</td>\n",
       "      <td>0.133333</td>\n",
       "      <td>0.066667</td>\n",
       "      <td>0.088889</td>\n",
       "      <td>0.088889</td>\n",
       "      <td>0.111111</td>\n",
       "      <td>0.133333</td>\n",
       "    </tr>\n",
       "    <tr>\n",
       "      <th>760</th>\n",
       "      <td>Wellsville</td>\n",
       "      <td>0.162162</td>\n",
       "      <td>0.162162</td>\n",
       "      <td>0.000000</td>\n",
       "      <td>0.135135</td>\n",
       "      <td>0.108108</td>\n",
       "      <td>0.054054</td>\n",
       "      <td>0.081081</td>\n",
       "      <td>0.054054</td>\n",
       "      <td>0.108108</td>\n",
       "      <td>0.135135</td>\n",
       "    </tr>\n",
       "    <tr>\n",
       "      <th>806</th>\n",
       "      <td>Chamberlain</td>\n",
       "      <td>0.133333</td>\n",
       "      <td>0.133333</td>\n",
       "      <td>0.066667</td>\n",
       "      <td>0.133333</td>\n",
       "      <td>0.133333</td>\n",
       "      <td>0.133333</td>\n",
       "      <td>0.066667</td>\n",
       "      <td>0.000000</td>\n",
       "      <td>0.000000</td>\n",
       "      <td>0.200000</td>\n",
       "    </tr>\n",
       "    <tr>\n",
       "      <th>856</th>\n",
       "      <td>Castle Revolving</td>\n",
       "      <td>0.130435</td>\n",
       "      <td>0.152174</td>\n",
       "      <td>0.043478</td>\n",
       "      <td>0.108696</td>\n",
       "      <td>0.065217</td>\n",
       "      <td>0.043478</td>\n",
       "      <td>0.130435</td>\n",
       "      <td>0.065217</td>\n",
       "      <td>0.108696</td>\n",
       "      <td>0.152174</td>\n",
       "    </tr>\n",
       "    <tr>\n",
       "      <th>869</th>\n",
       "      <td>New Quahog</td>\n",
       "      <td>0.100000</td>\n",
       "      <td>0.080000</td>\n",
       "      <td>0.080000</td>\n",
       "      <td>0.080000</td>\n",
       "      <td>0.220000</td>\n",
       "      <td>0.080000</td>\n",
       "      <td>0.080000</td>\n",
       "      <td>0.020000</td>\n",
       "      <td>0.120000</td>\n",
       "      <td>0.140000</td>\n",
       "    </tr>\n",
       "    <tr>\n",
       "      <th>974</th>\n",
       "      <td>Chronopolis</td>\n",
       "      <td>0.133333</td>\n",
       "      <td>0.133333</td>\n",
       "      <td>0.000000</td>\n",
       "      <td>0.000000</td>\n",
       "      <td>0.200000</td>\n",
       "      <td>0.066667</td>\n",
       "      <td>0.066667</td>\n",
       "      <td>0.066667</td>\n",
       "      <td>0.133333</td>\n",
       "      <td>0.200000</td>\n",
       "    </tr>\n",
       "  </tbody>\n",
       "</table>\n",
       "</div>"
      ],
      "text/plain": [
       "                        City      Food     Parks   Museums    Hiking  \\\n",
       "0                   Dogville  0.157895  0.105263  0.000000  0.105263   \n",
       "69                Sheepridge  0.205128  0.102564  0.025641  0.102564   \n",
       "82           Frostbite Falls  0.140000  0.060000  0.060000  0.140000   \n",
       "173                  Newford  0.111111  0.088889  0.088889  0.111111   \n",
       "200              Collinsport  0.060606  0.121212  0.060606  0.090909   \n",
       "303                 Highland  0.100000  0.100000  0.066667  0.100000   \n",
       "324                    Zaira  0.117647  0.000000  0.058824  0.058824   \n",
       "395            Traverse Town  0.100000  0.100000  0.050000  0.100000   \n",
       "467            New York City  0.142857  0.142857  0.000000  0.142857   \n",
       "570                   Hyrule  0.157895  0.157895  0.052632  0.105263   \n",
       "625              Digitopolis  0.100000  0.100000  0.100000  0.140000   \n",
       "629                  Bursley  0.073171  0.146341  0.024390  0.121951   \n",
       "666  Spaceport Five Overcity  0.113636  0.181818  0.090909  0.090909   \n",
       "679             Citytropolis  0.140000  0.100000  0.040000  0.120000   \n",
       "712                     Mido  0.133333  0.088889  0.044444  0.111111   \n",
       "760               Wellsville  0.162162  0.162162  0.000000  0.135135   \n",
       "806              Chamberlain  0.133333  0.133333  0.066667  0.133333   \n",
       "856         Castle Revolving  0.130435  0.152174  0.043478  0.108696   \n",
       "869               New Quahog  0.100000  0.080000  0.080000  0.080000   \n",
       "974              Chronopolis  0.133333  0.133333  0.000000  0.000000   \n",
       "\n",
       "        Beach  Romantic   History     Music   Theater    Sports  \n",
       "0    0.157895  0.105263  0.052632  0.052632  0.105263  0.157895  \n",
       "69   0.051282  0.102564  0.076923  0.076923  0.128205  0.128205  \n",
       "82   0.060000  0.140000  0.120000  0.040000  0.080000  0.160000  \n",
       "173  0.155556  0.088889  0.066667  0.044444  0.133333  0.111111  \n",
       "200  0.181818  0.151515  0.060606  0.090909  0.060606  0.121212  \n",
       "303  0.133333  0.100000  0.133333  0.066667  0.100000  0.100000  \n",
       "324  0.176471  0.117647  0.117647  0.058824  0.117647  0.176471  \n",
       "395  0.050000  0.150000  0.050000  0.100000  0.150000  0.150000  \n",
       "467  0.142857  0.142857  0.000000  0.000000  0.142857  0.142857  \n",
       "570  0.157895  0.105263  0.000000  0.052632  0.105263  0.105263  \n",
       "625  0.120000  0.120000  0.060000  0.060000  0.080000  0.120000  \n",
       "629  0.170732  0.048780  0.097561  0.121951  0.048780  0.146341  \n",
       "666  0.113636  0.090909  0.090909  0.022727  0.090909  0.113636  \n",
       "679  0.100000  0.080000  0.100000  0.140000  0.060000  0.120000  \n",
       "712  0.133333  0.066667  0.088889  0.088889  0.111111  0.133333  \n",
       "760  0.108108  0.054054  0.081081  0.054054  0.108108  0.135135  \n",
       "806  0.133333  0.133333  0.066667  0.000000  0.000000  0.200000  \n",
       "856  0.065217  0.043478  0.130435  0.065217  0.108696  0.152174  \n",
       "869  0.220000  0.080000  0.080000  0.020000  0.120000  0.140000  \n",
       "974  0.200000  0.066667  0.066667  0.066667  0.133333  0.200000  "
      ]
     },
     "metadata": {},
     "output_type": "display_data"
    }
   ],
   "source": [
    "city_picks = corr_df[corr_df['Similarity']>0.9].index\n",
    "display(city_vector[city_vector.index.isin(city_picks)])"
   ]
  },
  {
   "cell_type": "markdown",
   "metadata": {
    "id": "2OLurS-q5L59"
   },
   "source": [
    "## 4. Comparing users\n",
    "From our table with the activities for each user, we will create a new table where each row represents a user and each column shows the proportion of its activities for each category. For a user with a single 'Hiking' activity, its row will have *1* in the 'Hiking' column. If a user has three activities ('Museums', 'Romantic', Ḿuseums'), it will have *0.67* in the 'Museums' column and *0.33* in the 'Romantic' one. We will group the activities from all visited cities.<br>\n",
    "With this, we will have a vector describing each user and we can measure the similarities between two users by the correlation between their rows."
   ]
  },
  {
   "cell_type": "code",
   "execution_count": 15,
   "metadata": {},
   "outputs": [
    {
     "data": {
      "text/html": [
       "<div>\n",
       "<style scoped>\n",
       "    .dataframe tbody tr th:only-of-type {\n",
       "        vertical-align: middle;\n",
       "    }\n",
       "\n",
       "    .dataframe tbody tr th {\n",
       "        vertical-align: top;\n",
       "    }\n",
       "\n",
       "    .dataframe thead th {\n",
       "        text-align: right;\n",
       "    }\n",
       "</style>\n",
       "<table border=\"1\" class=\"dataframe\">\n",
       "  <thead>\n",
       "    <tr style=\"text-align: right;\">\n",
       "      <th></th>\n",
       "      <th>Name</th>\n",
       "      <th>Food</th>\n",
       "      <th>Parks</th>\n",
       "      <th>Museums</th>\n",
       "      <th>Hiking</th>\n",
       "      <th>Beach</th>\n",
       "      <th>Romantic</th>\n",
       "      <th>History</th>\n",
       "      <th>Music</th>\n",
       "      <th>Theater</th>\n",
       "      <th>Sports</th>\n",
       "    </tr>\n",
       "  </thead>\n",
       "  <tbody>\n",
       "    <tr>\n",
       "      <th>0</th>\n",
       "      <td>MARIA</td>\n",
       "      <td>0.000000</td>\n",
       "      <td>0.333333</td>\n",
       "      <td>0.333333</td>\n",
       "      <td>0.000000</td>\n",
       "      <td>0.000000</td>\n",
       "      <td>0.000000</td>\n",
       "      <td>0.000000</td>\n",
       "      <td>0.000000</td>\n",
       "      <td>0.000000</td>\n",
       "      <td>0.333333</td>\n",
       "    </tr>\n",
       "    <tr>\n",
       "      <th>1</th>\n",
       "      <td>JOSE</td>\n",
       "      <td>0.000000</td>\n",
       "      <td>0.000000</td>\n",
       "      <td>0.000000</td>\n",
       "      <td>0.000000</td>\n",
       "      <td>0.000000</td>\n",
       "      <td>1.000000</td>\n",
       "      <td>0.000000</td>\n",
       "      <td>0.000000</td>\n",
       "      <td>0.000000</td>\n",
       "      <td>0.000000</td>\n",
       "    </tr>\n",
       "    <tr>\n",
       "      <th>2</th>\n",
       "      <td>ANA</td>\n",
       "      <td>0.105263</td>\n",
       "      <td>0.263158</td>\n",
       "      <td>0.157895</td>\n",
       "      <td>0.000000</td>\n",
       "      <td>0.157895</td>\n",
       "      <td>0.000000</td>\n",
       "      <td>0.000000</td>\n",
       "      <td>0.105263</td>\n",
       "      <td>0.157895</td>\n",
       "      <td>0.052632</td>\n",
       "    </tr>\n",
       "    <tr>\n",
       "      <th>3</th>\n",
       "      <td>JOAO</td>\n",
       "      <td>0.142857</td>\n",
       "      <td>0.142857</td>\n",
       "      <td>0.000000</td>\n",
       "      <td>0.142857</td>\n",
       "      <td>0.000000</td>\n",
       "      <td>0.000000</td>\n",
       "      <td>0.000000</td>\n",
       "      <td>0.000000</td>\n",
       "      <td>0.285714</td>\n",
       "      <td>0.285714</td>\n",
       "    </tr>\n",
       "    <tr>\n",
       "      <th>4</th>\n",
       "      <td>ANTONIO</td>\n",
       "      <td>0.052632</td>\n",
       "      <td>0.105263</td>\n",
       "      <td>0.052632</td>\n",
       "      <td>0.052632</td>\n",
       "      <td>0.000000</td>\n",
       "      <td>0.210526</td>\n",
       "      <td>0.315789</td>\n",
       "      <td>0.052632</td>\n",
       "      <td>0.105263</td>\n",
       "      <td>0.052632</td>\n",
       "    </tr>\n",
       "  </tbody>\n",
       "</table>\n",
       "</div>"
      ],
      "text/plain": [
       "      Name      Food     Parks   Museums    Hiking     Beach  Romantic  \\\n",
       "0    MARIA  0.000000  0.333333  0.333333  0.000000  0.000000  0.000000   \n",
       "1     JOSE  0.000000  0.000000  0.000000  0.000000  0.000000  1.000000   \n",
       "2      ANA  0.105263  0.263158  0.157895  0.000000  0.157895  0.000000   \n",
       "3     JOAO  0.142857  0.142857  0.000000  0.142857  0.000000  0.000000   \n",
       "4  ANTONIO  0.052632  0.105263  0.052632  0.052632  0.000000  0.210526   \n",
       "\n",
       "    History     Music   Theater    Sports  \n",
       "0  0.000000  0.000000  0.000000  0.333333  \n",
       "1  0.000000  0.000000  0.000000  0.000000  \n",
       "2  0.000000  0.105263  0.157895  0.052632  \n",
       "3  0.000000  0.000000  0.285714  0.285714  \n",
       "4  0.315789  0.052632  0.105263  0.052632  "
      ]
     },
     "execution_count": 15,
     "metadata": {},
     "output_type": "execute_result"
    }
   ],
   "source": [
    "user_vector = pd.DataFrame(np.zeros((len(user_input),11)),columns = ['Name']+categories)\n",
    "user_vector['Name'] = user_input['Nome'].tolist()\n",
    "user_vector = user_vector.set_index('Name')\n",
    "for ii in range(len(user_table)):\n",
    "    user_vector.loc[user_table.iloc[ii,0],user_table.iloc[ii,-1]] +=1\n",
    "user_vector = user_vector.div(user_vector.sum(axis=1), axis=0)\n",
    "user_vector.reset_index(inplace=True)\n",
    "user_vector.head()\n"
   ]
  },
  {
   "cell_type": "code",
   "execution_count": 16,
   "metadata": {
    "execution": {
     "iopub.execute_input": "2022-01-13T14:40:04.470967Z",
     "iopub.status.busy": "2022-01-13T14:40:04.470699Z",
     "iopub.status.idle": "2022-01-13T14:40:04.512873Z",
     "shell.execute_reply": "2022-01-13T14:40:04.511898Z",
     "shell.execute_reply.started": "2022-01-13T14:40:04.470936Z"
    },
    "id": "8yGot5Pn5L59",
    "outputId": "f36b10e9-3f66-456a-dd40-7b7804938f03"
   },
   "outputs": [
    {
     "data": {
      "text/html": [
       "<div>\n",
       "<style scoped>\n",
       "    .dataframe tbody tr th:only-of-type {\n",
       "        vertical-align: middle;\n",
       "    }\n",
       "\n",
       "    .dataframe tbody tr th {\n",
       "        vertical-align: top;\n",
       "    }\n",
       "\n",
       "    .dataframe thead th {\n",
       "        text-align: right;\n",
       "    }\n",
       "</style>\n",
       "<table border=\"1\" class=\"dataframe\">\n",
       "  <thead>\n",
       "    <tr style=\"text-align: right;\">\n",
       "      <th></th>\n",
       "      <th>Name</th>\n",
       "      <th>Food</th>\n",
       "      <th>Parks</th>\n",
       "      <th>Museums</th>\n",
       "      <th>Hiking</th>\n",
       "      <th>Beach</th>\n",
       "      <th>Romantic</th>\n",
       "      <th>History</th>\n",
       "      <th>Music</th>\n",
       "      <th>Theater</th>\n",
       "      <th>Sports</th>\n",
       "    </tr>\n",
       "  </thead>\n",
       "  <tbody>\n",
       "    <tr>\n",
       "      <th>26214</th>\n",
       "      <td>SAMYLE</td>\n",
       "      <td>0.076923</td>\n",
       "      <td>0.0</td>\n",
       "      <td>0.153846</td>\n",
       "      <td>0.076923</td>\n",
       "      <td>0.076923</td>\n",
       "      <td>0.076923</td>\n",
       "      <td>0.153846</td>\n",
       "      <td>0.307692</td>\n",
       "      <td>0.000</td>\n",
       "      <td>0.076923</td>\n",
       "    </tr>\n",
       "    <tr>\n",
       "      <th>56792</th>\n",
       "      <td>DAPHINNY</td>\n",
       "      <td>0.000000</td>\n",
       "      <td>0.0</td>\n",
       "      <td>0.000000</td>\n",
       "      <td>0.375000</td>\n",
       "      <td>0.125000</td>\n",
       "      <td>0.000000</td>\n",
       "      <td>0.125000</td>\n",
       "      <td>0.125000</td>\n",
       "      <td>0.125</td>\n",
       "      <td>0.125000</td>\n",
       "    </tr>\n",
       "  </tbody>\n",
       "</table>\n",
       "</div>"
      ],
      "text/plain": [
       "           Name      Food  Parks   Museums    Hiking     Beach  Romantic  \\\n",
       "26214    SAMYLE  0.076923    0.0  0.153846  0.076923  0.076923  0.076923   \n",
       "56792  DAPHINNY  0.000000    0.0  0.000000  0.375000  0.125000  0.000000   \n",
       "\n",
       "        History     Music  Theater    Sports  \n",
       "26214  0.153846  0.307692    0.000  0.076923  \n",
       "56792  0.125000  0.125000    0.125  0.125000  "
      ]
     },
     "metadata": {},
     "output_type": "display_data"
    },
    {
     "name": "stdout",
     "output_type": "stream",
     "text": [
      "Cosine similarity between  SAMYLE and  DAPHINNY is  0.5459208336840117\n"
     ]
    },
    {
     "data": {
      "text/html": [
       "<div>\n",
       "<style scoped>\n",
       "    .dataframe tbody tr th:only-of-type {\n",
       "        vertical-align: middle;\n",
       "    }\n",
       "\n",
       "    .dataframe tbody tr th {\n",
       "        vertical-align: top;\n",
       "    }\n",
       "\n",
       "    .dataframe thead th {\n",
       "        text-align: right;\n",
       "    }\n",
       "</style>\n",
       "<table border=\"1\" class=\"dataframe\">\n",
       "  <thead>\n",
       "    <tr style=\"text-align: right;\">\n",
       "      <th></th>\n",
       "      <th>Name</th>\n",
       "      <th>Food</th>\n",
       "      <th>Parks</th>\n",
       "      <th>Museums</th>\n",
       "      <th>Hiking</th>\n",
       "      <th>Beach</th>\n",
       "      <th>Romantic</th>\n",
       "      <th>History</th>\n",
       "      <th>Music</th>\n",
       "      <th>Theater</th>\n",
       "      <th>Sports</th>\n",
       "    </tr>\n",
       "  </thead>\n",
       "  <tbody>\n",
       "    <tr>\n",
       "      <th>23038</th>\n",
       "      <td>NIQUELI</td>\n",
       "      <td>0.0</td>\n",
       "      <td>0.0</td>\n",
       "      <td>0.166667</td>\n",
       "      <td>0.0</td>\n",
       "      <td>0.166667</td>\n",
       "      <td>0.0</td>\n",
       "      <td>0.333333</td>\n",
       "      <td>0.0</td>\n",
       "      <td>0.166667</td>\n",
       "      <td>0.166667</td>\n",
       "    </tr>\n",
       "    <tr>\n",
       "      <th>25522</th>\n",
       "      <td>MARILINDA</td>\n",
       "      <td>0.0</td>\n",
       "      <td>0.0</td>\n",
       "      <td>0.000000</td>\n",
       "      <td>0.0</td>\n",
       "      <td>0.000000</td>\n",
       "      <td>0.0</td>\n",
       "      <td>0.000000</td>\n",
       "      <td>0.0</td>\n",
       "      <td>1.000000</td>\n",
       "      <td>0.000000</td>\n",
       "    </tr>\n",
       "  </tbody>\n",
       "</table>\n",
       "</div>"
      ],
      "text/plain": [
       "            Name  Food  Parks   Museums  Hiking     Beach  Romantic   History  \\\n",
       "23038    NIQUELI   0.0    0.0  0.166667     0.0  0.166667       0.0  0.333333   \n",
       "25522  MARILINDA   0.0    0.0  0.000000     0.0  0.000000       0.0  0.000000   \n",
       "\n",
       "       Music   Theater    Sports  \n",
       "23038    0.0  0.166667  0.166667  \n",
       "25522    0.0  1.000000  0.000000  "
      ]
     },
     "metadata": {},
     "output_type": "display_data"
    },
    {
     "name": "stdout",
     "output_type": "stream",
     "text": [
      "Cosine similarity between  MARILINDA and  NIQUELI is  0.35355339059327373\n"
     ]
    }
   ],
   "source": [
    "for ii in range(2):\n",
    "    user_picks = random.sample(range(len(user_vector)),2)\n",
    "    display(user_vector[user_vector.index.isin(user_picks)])\n",
    "    print('Cosine similarity between ',user_vector.iloc[user_picks[0],0],'and ',user_vector.iloc[user_picks[1],0],'is ',float(cosine_similarity([user_vector.iloc[user_picks[0],1:]],[user_vector.iloc[user_picks[1],1:]])))"
   ]
  },
  {
   "cell_type": "markdown",
   "metadata": {
    "id": "xdGI11ez5L59"
   },
   "source": [
    "What we want is to find the users with the highest cosine similarity to our target. So let's try to find the users most similar to our first user."
   ]
  },
  {
   "cell_type": "code",
   "execution_count": 17,
   "metadata": {
    "execution": {
     "iopub.execute_input": "2022-01-13T14:40:04.514477Z",
     "iopub.status.busy": "2022-01-13T14:40:04.514256Z",
     "iopub.status.idle": "2022-01-13T14:40:19.195533Z",
     "shell.execute_reply": "2022-01-13T14:40:19.194893Z",
     "shell.execute_reply.started": "2022-01-13T14:40:04.514450Z"
    },
    "id": "ce2ReCT-5L5-",
    "outputId": "98581f28-54fa-45ed-f965-cd678b9a1d46",
    "scrolled": true
   },
   "outputs": [
    {
     "data": {
      "text/html": [
       "<div>\n",
       "<style scoped>\n",
       "    .dataframe tbody tr th:only-of-type {\n",
       "        vertical-align: middle;\n",
       "    }\n",
       "\n",
       "    .dataframe tbody tr th {\n",
       "        vertical-align: top;\n",
       "    }\n",
       "\n",
       "    .dataframe thead th {\n",
       "        text-align: right;\n",
       "    }\n",
       "</style>\n",
       "<table border=\"1\" class=\"dataframe\">\n",
       "  <thead>\n",
       "    <tr style=\"text-align: right;\">\n",
       "      <th></th>\n",
       "      <th>Name</th>\n",
       "      <th>Similarity</th>\n",
       "    </tr>\n",
       "  </thead>\n",
       "  <tbody>\n",
       "    <tr>\n",
       "      <th>0</th>\n",
       "      <td>MARIA</td>\n",
       "      <td>1</td>\n",
       "    </tr>\n",
       "    <tr>\n",
       "      <th>53634</th>\n",
       "      <td>GIOVNNA</td>\n",
       "      <td>1</td>\n",
       "    </tr>\n",
       "    <tr>\n",
       "      <th>36407</th>\n",
       "      <td>VESPAZIANO</td>\n",
       "      <td>1</td>\n",
       "    </tr>\n",
       "    <tr>\n",
       "      <th>31049</th>\n",
       "      <td>MACRINA</td>\n",
       "      <td>1</td>\n",
       "    </tr>\n",
       "    <tr>\n",
       "      <th>36962</th>\n",
       "      <td>HENRYQUE</td>\n",
       "      <td>1</td>\n",
       "    </tr>\n",
       "  </tbody>\n",
       "</table>\n",
       "</div>"
      ],
      "text/plain": [
       "             Name Similarity\n",
       "0           MARIA          1\n",
       "53634     GIOVNNA          1\n",
       "36407  VESPAZIANO          1\n",
       "31049     MACRINA          1\n",
       "36962    HENRYQUE          1"
      ]
     },
     "execution_count": 17,
     "metadata": {},
     "output_type": "execute_result"
    }
   ],
   "source": [
    "corr_user_df = pd.DataFrame(columns=['Name','Similarity'])\n",
    "corr_user_df['Name'] = user_input['Nome']\n",
    "target_vector = [user_vector.iloc[0,1:]]\n",
    "for ii in range(len(user_vector)):\n",
    "    corr_user_df.iloc[ii,1] = float(cosine_similarity(target_vector,[user_vector.iloc[ii,1:]]))\n",
    "corr_user_df = corr_user_df.sort_values(by='Similarity',ascending=False)\n",
    "corr_user_df[corr_user_df['Similarity']>0.9].head()"
   ]
  },
  {
   "cell_type": "markdown",
   "metadata": {
    "id": "4oD8kj4p5L5-"
   },
   "source": [
    "We now have the list of the users most similar to our first user. We can confirm this by displaying the vectors of those users."
   ]
  },
  {
   "cell_type": "code",
   "execution_count": 18,
   "metadata": {
    "execution": {
     "iopub.execute_input": "2022-01-13T14:40:19.197267Z",
     "iopub.status.busy": "2022-01-13T14:40:19.196853Z",
     "iopub.status.idle": "2022-01-13T14:40:19.229278Z",
     "shell.execute_reply": "2022-01-13T14:40:19.228296Z",
     "shell.execute_reply.started": "2022-01-13T14:40:19.197235Z"
    },
    "id": "_ZhVjXcM5L5-",
    "outputId": "4e764c40-2935-4e5c-a305-4e631cde4164"
   },
   "outputs": [
    {
     "data": {
      "text/html": [
       "<div>\n",
       "<style scoped>\n",
       "    .dataframe tbody tr th:only-of-type {\n",
       "        vertical-align: middle;\n",
       "    }\n",
       "\n",
       "    .dataframe tbody tr th {\n",
       "        vertical-align: top;\n",
       "    }\n",
       "\n",
       "    .dataframe thead th {\n",
       "        text-align: right;\n",
       "    }\n",
       "</style>\n",
       "<table border=\"1\" class=\"dataframe\">\n",
       "  <thead>\n",
       "    <tr style=\"text-align: right;\">\n",
       "      <th></th>\n",
       "      <th>Name</th>\n",
       "      <th>Food</th>\n",
       "      <th>Parks</th>\n",
       "      <th>Museums</th>\n",
       "      <th>Hiking</th>\n",
       "      <th>Beach</th>\n",
       "      <th>Romantic</th>\n",
       "      <th>History</th>\n",
       "      <th>Music</th>\n",
       "      <th>Theater</th>\n",
       "      <th>Sports</th>\n",
       "    </tr>\n",
       "  </thead>\n",
       "  <tbody>\n",
       "    <tr>\n",
       "      <th>0</th>\n",
       "      <td>MARIA</td>\n",
       "      <td>0.0</td>\n",
       "      <td>0.333333</td>\n",
       "      <td>0.333333</td>\n",
       "      <td>0.000000</td>\n",
       "      <td>0.000000</td>\n",
       "      <td>0.000000</td>\n",
       "      <td>0.0</td>\n",
       "      <td>0.0</td>\n",
       "      <td>0.0</td>\n",
       "      <td>0.333333</td>\n",
       "    </tr>\n",
       "    <tr>\n",
       "      <th>2911</th>\n",
       "      <td>FRANCELINA</td>\n",
       "      <td>0.0</td>\n",
       "      <td>0.250000</td>\n",
       "      <td>0.500000</td>\n",
       "      <td>0.000000</td>\n",
       "      <td>0.000000</td>\n",
       "      <td>0.000000</td>\n",
       "      <td>0.0</td>\n",
       "      <td>0.0</td>\n",
       "      <td>0.0</td>\n",
       "      <td>0.250000</td>\n",
       "    </tr>\n",
       "    <tr>\n",
       "      <th>3631</th>\n",
       "      <td>LUCIAN</td>\n",
       "      <td>0.0</td>\n",
       "      <td>0.333333</td>\n",
       "      <td>0.333333</td>\n",
       "      <td>0.000000</td>\n",
       "      <td>0.000000</td>\n",
       "      <td>0.000000</td>\n",
       "      <td>0.0</td>\n",
       "      <td>0.0</td>\n",
       "      <td>0.0</td>\n",
       "      <td>0.333333</td>\n",
       "    </tr>\n",
       "    <tr>\n",
       "      <th>3781</th>\n",
       "      <td>CLAUDEMIRO</td>\n",
       "      <td>0.0</td>\n",
       "      <td>0.333333</td>\n",
       "      <td>0.250000</td>\n",
       "      <td>0.083333</td>\n",
       "      <td>0.083333</td>\n",
       "      <td>0.083333</td>\n",
       "      <td>0.0</td>\n",
       "      <td>0.0</td>\n",
       "      <td>0.0</td>\n",
       "      <td>0.166667</td>\n",
       "    </tr>\n",
       "    <tr>\n",
       "      <th>4313</th>\n",
       "      <td>BRANCA</td>\n",
       "      <td>0.0</td>\n",
       "      <td>0.250000</td>\n",
       "      <td>0.250000</td>\n",
       "      <td>0.000000</td>\n",
       "      <td>0.000000</td>\n",
       "      <td>0.000000</td>\n",
       "      <td>0.0</td>\n",
       "      <td>0.0</td>\n",
       "      <td>0.0</td>\n",
       "      <td>0.500000</td>\n",
       "    </tr>\n",
       "  </tbody>\n",
       "</table>\n",
       "</div>"
      ],
      "text/plain": [
       "            Name  Food     Parks   Museums    Hiking     Beach  Romantic  \\\n",
       "0          MARIA   0.0  0.333333  0.333333  0.000000  0.000000  0.000000   \n",
       "2911  FRANCELINA   0.0  0.250000  0.500000  0.000000  0.000000  0.000000   \n",
       "3631      LUCIAN   0.0  0.333333  0.333333  0.000000  0.000000  0.000000   \n",
       "3781  CLAUDEMIRO   0.0  0.333333  0.250000  0.083333  0.083333  0.083333   \n",
       "4313      BRANCA   0.0  0.250000  0.250000  0.000000  0.000000  0.000000   \n",
       "\n",
       "      History  Music  Theater    Sports  \n",
       "0         0.0    0.0      0.0  0.333333  \n",
       "2911      0.0    0.0      0.0  0.250000  \n",
       "3631      0.0    0.0      0.0  0.333333  \n",
       "3781      0.0    0.0      0.0  0.166667  \n",
       "4313      0.0    0.0      0.0  0.500000  "
      ]
     },
     "metadata": {},
     "output_type": "display_data"
    }
   ],
   "source": [
    "user_picks = corr_user_df[corr_user_df['Similarity']>0.9].index\n",
    "display(user_vector[user_vector.index.isin(user_picks)].head())"
   ]
  },
  {
   "cell_type": "markdown",
   "metadata": {
    "id": "DIN9DxuC5L5-"
   },
   "source": [
    "## 5. Comparing users and cities\n",
    "We now have vectors representing each city and user, with their ratio of categories. We can find the cities that best match a user and vice versa. "
   ]
  },
  {
   "cell_type": "markdown",
   "metadata": {
    "id": "oATcZysZ5L5-"
   },
   "source": [
    "### 5.1 Finding cities matching an user\n",
    "We will give an example by finding cities that are similar to the behavior of our first user."
   ]
  },
  {
   "cell_type": "code",
   "execution_count": 19,
   "metadata": {
    "execution": {
     "iopub.execute_input": "2022-01-13T14:40:19.231055Z",
     "iopub.status.busy": "2022-01-13T14:40:19.230676Z",
     "iopub.status.idle": "2022-01-13T14:40:19.697154Z",
     "shell.execute_reply": "2022-01-13T14:40:19.696120Z",
     "shell.execute_reply.started": "2022-01-13T14:40:19.231003Z"
    },
    "id": "zwa1rmJj5L5-",
    "outputId": "8c118d47-3fe7-4137-ab55-a56b94c271c9"
   },
   "outputs": [
    {
     "data": {
      "text/html": [
       "<div>\n",
       "<style scoped>\n",
       "    .dataframe tbody tr th:only-of-type {\n",
       "        vertical-align: middle;\n",
       "    }\n",
       "\n",
       "    .dataframe tbody tr th {\n",
       "        vertical-align: top;\n",
       "    }\n",
       "\n",
       "    .dataframe thead th {\n",
       "        text-align: right;\n",
       "    }\n",
       "</style>\n",
       "<table border=\"1\" class=\"dataframe\">\n",
       "  <thead>\n",
       "    <tr style=\"text-align: right;\">\n",
       "      <th></th>\n",
       "      <th>City</th>\n",
       "      <th>Similarity</th>\n",
       "    </tr>\n",
       "  </thead>\n",
       "  <tbody>\n",
       "  </tbody>\n",
       "</table>\n",
       "</div>"
      ],
      "text/plain": [
       "Empty DataFrame\n",
       "Columns: [City, Similarity]\n",
       "Index: []"
      ]
     },
     "execution_count": 19,
     "metadata": {},
     "output_type": "execute_result"
    }
   ],
   "source": [
    "corr_user_cities_df = pd.DataFrame(columns=['City','Similarity'])\n",
    "corr_user_cities_df['City'] = city_vector['City']\n",
    "target_vector = [user_vector.iloc[0,1:]]\n",
    "for ii in range(len(city_vector)):\n",
    "    corr_user_cities_df.iloc[ii,1] = float(cosine_similarity(target_vector,[city_vector.iloc[ii,1:]]))\n",
    "corr_user_cities_df[corr_user_cities_df['Similarity']>0.9].sort_values(by='Similarity',ascending=False)"
   ]
  },
  {
   "cell_type": "code",
   "execution_count": 20,
   "metadata": {
    "execution": {
     "iopub.execute_input": "2022-01-13T14:40:19.698715Z",
     "iopub.status.busy": "2022-01-13T14:40:19.698455Z",
     "iopub.status.idle": "2022-01-13T14:40:19.731643Z",
     "shell.execute_reply": "2022-01-13T14:40:19.730856Z",
     "shell.execute_reply.started": "2022-01-13T14:40:19.698682Z"
    },
    "id": "_okvaEs15L5_",
    "outputId": "7a40a4cb-0943-4f6f-c58f-9594a88b6d85"
   },
   "outputs": [
    {
     "data": {
      "text/html": [
       "<div>\n",
       "<style scoped>\n",
       "    .dataframe tbody tr th:only-of-type {\n",
       "        vertical-align: middle;\n",
       "    }\n",
       "\n",
       "    .dataframe tbody tr th {\n",
       "        vertical-align: top;\n",
       "    }\n",
       "\n",
       "    .dataframe thead th {\n",
       "        text-align: right;\n",
       "    }\n",
       "</style>\n",
       "<table border=\"1\" class=\"dataframe\">\n",
       "  <thead>\n",
       "    <tr style=\"text-align: right;\">\n",
       "      <th></th>\n",
       "      <th>Name</th>\n",
       "      <th>Food</th>\n",
       "      <th>Parks</th>\n",
       "      <th>Museums</th>\n",
       "      <th>Hiking</th>\n",
       "      <th>Beach</th>\n",
       "      <th>Romantic</th>\n",
       "      <th>History</th>\n",
       "      <th>Music</th>\n",
       "      <th>Theater</th>\n",
       "      <th>Sports</th>\n",
       "    </tr>\n",
       "  </thead>\n",
       "  <tbody>\n",
       "    <tr>\n",
       "      <th>0</th>\n",
       "      <td>MARIA</td>\n",
       "      <td>0.0</td>\n",
       "      <td>0.333333</td>\n",
       "      <td>0.333333</td>\n",
       "      <td>0.0</td>\n",
       "      <td>0.0</td>\n",
       "      <td>0.0</td>\n",
       "      <td>0.0</td>\n",
       "      <td>0.0</td>\n",
       "      <td>0.0</td>\n",
       "      <td>0.333333</td>\n",
       "    </tr>\n",
       "  </tbody>\n",
       "</table>\n",
       "</div>"
      ],
      "text/plain": [
       "    Name  Food     Parks   Museums  Hiking  Beach  Romantic  History  Music  \\\n",
       "0  MARIA   0.0  0.333333  0.333333     0.0    0.0       0.0      0.0    0.0   \n",
       "\n",
       "   Theater    Sports  \n",
       "0      0.0  0.333333  "
      ]
     },
     "metadata": {},
     "output_type": "display_data"
    },
    {
     "data": {
      "text/html": [
       "<div>\n",
       "<style scoped>\n",
       "    .dataframe tbody tr th:only-of-type {\n",
       "        vertical-align: middle;\n",
       "    }\n",
       "\n",
       "    .dataframe tbody tr th {\n",
       "        vertical-align: top;\n",
       "    }\n",
       "\n",
       "    .dataframe thead th {\n",
       "        text-align: right;\n",
       "    }\n",
       "</style>\n",
       "<table border=\"1\" class=\"dataframe\">\n",
       "  <thead>\n",
       "    <tr style=\"text-align: right;\">\n",
       "      <th></th>\n",
       "      <th>City</th>\n",
       "      <th>Food</th>\n",
       "      <th>Parks</th>\n",
       "      <th>Museums</th>\n",
       "      <th>Hiking</th>\n",
       "      <th>Beach</th>\n",
       "      <th>Romantic</th>\n",
       "      <th>History</th>\n",
       "      <th>Music</th>\n",
       "      <th>Theater</th>\n",
       "      <th>Sports</th>\n",
       "    </tr>\n",
       "  </thead>\n",
       "  <tbody>\n",
       "  </tbody>\n",
       "</table>\n",
       "</div>"
      ],
      "text/plain": [
       "Empty DataFrame\n",
       "Columns: [City, Food, Parks, Museums, Hiking, Beach, Romantic, History, Music, Theater, Sports]\n",
       "Index: []"
      ]
     },
     "metadata": {},
     "output_type": "display_data"
    }
   ],
   "source": [
    "display(user_vector[user_vector.index==0])\n",
    "user_cities_picks = corr_user_cities_df[corr_user_cities_df['Similarity']>0.9].index\n",
    "display(city_vector[city_vector.index.isin(user_cities_picks)])"
   ]
  },
  {
   "cell_type": "markdown",
   "metadata": {
    "id": "C3rx2g6p5L5_"
   },
   "source": [
    "### 5.2 Finding users matching a city\n",
    "We will give an example by finding users that are similar to the behavior of our first city."
   ]
  },
  {
   "cell_type": "code",
   "execution_count": 21,
   "metadata": {
    "execution": {
     "iopub.execute_input": "2022-01-13T14:40:19.733242Z",
     "iopub.status.busy": "2022-01-13T14:40:19.732968Z",
     "iopub.status.idle": "2022-01-13T14:40:34.594661Z",
     "shell.execute_reply": "2022-01-13T14:40:34.593835Z",
     "shell.execute_reply.started": "2022-01-13T14:40:19.733211Z"
    },
    "id": "pzCWyUat5L5_",
    "outputId": "16d33074-fd79-4028-8085-9697d64f6253"
   },
   "outputs": [
    {
     "data": {
      "text/html": [
       "<div>\n",
       "<style scoped>\n",
       "    .dataframe tbody tr th:only-of-type {\n",
       "        vertical-align: middle;\n",
       "    }\n",
       "\n",
       "    .dataframe tbody tr th {\n",
       "        vertical-align: top;\n",
       "    }\n",
       "\n",
       "    .dataframe thead th {\n",
       "        text-align: right;\n",
       "    }\n",
       "</style>\n",
       "<table border=\"1\" class=\"dataframe\">\n",
       "  <thead>\n",
       "    <tr style=\"text-align: right;\">\n",
       "      <th></th>\n",
       "      <th>Name</th>\n",
       "      <th>Similarity</th>\n",
       "    </tr>\n",
       "  </thead>\n",
       "  <tbody>\n",
       "    <tr>\n",
       "      <th>57253</th>\n",
       "      <td>ROSILEIDI</td>\n",
       "      <td>1</td>\n",
       "    </tr>\n",
       "    <tr>\n",
       "      <th>2585</th>\n",
       "      <td>ADIEL</td>\n",
       "      <td>0.989762</td>\n",
       "    </tr>\n",
       "    <tr>\n",
       "      <th>37123</th>\n",
       "      <td>IUDSON</td>\n",
       "      <td>0.987597</td>\n",
       "    </tr>\n",
       "    <tr>\n",
       "      <th>3141</th>\n",
       "      <td>MAIQUE</td>\n",
       "      <td>0.98344</td>\n",
       "    </tr>\n",
       "    <tr>\n",
       "      <th>11142</th>\n",
       "      <td>ELION</td>\n",
       "      <td>0.982708</td>\n",
       "    </tr>\n",
       "  </tbody>\n",
       "</table>\n",
       "</div>"
      ],
      "text/plain": [
       "            Name Similarity\n",
       "57253  ROSILEIDI          1\n",
       "2585       ADIEL   0.989762\n",
       "37123     IUDSON   0.987597\n",
       "3141      MAIQUE    0.98344\n",
       "11142      ELION   0.982708"
      ]
     },
     "execution_count": 21,
     "metadata": {},
     "output_type": "execute_result"
    }
   ],
   "source": [
    "corr_city_users_df = pd.DataFrame(columns=['Name','Similarity'])\n",
    "corr_city_users_df['Name'] = user_input['Nome']\n",
    "target_vector = [city_vector.iloc[0,1:]]\n",
    "for ii in range(len(user_vector)):\n",
    "    corr_city_users_df.iloc[ii,1] = float(cosine_similarity(target_vector,[user_vector.iloc[ii,1:]]))\n",
    "corr_city_users_df = corr_city_users_df.sort_values(by='Similarity',ascending=False)\n",
    "corr_city_users_df[corr_city_users_df['Similarity']>0.9].head()"
   ]
  },
  {
   "cell_type": "code",
   "execution_count": 22,
   "metadata": {
    "execution": {
     "iopub.execute_input": "2022-01-13T14:40:34.596213Z",
     "iopub.status.busy": "2022-01-13T14:40:34.595971Z",
     "iopub.status.idle": "2022-01-13T14:40:34.639943Z",
     "shell.execute_reply": "2022-01-13T14:40:34.638895Z",
     "shell.execute_reply.started": "2022-01-13T14:40:34.596186Z"
    },
    "id": "qLqNz4kv5L5_",
    "outputId": "43c951b8-3dc6-4e66-a06d-2069d3681987"
   },
   "outputs": [
    {
     "data": {
      "text/html": [
       "<div>\n",
       "<style scoped>\n",
       "    .dataframe tbody tr th:only-of-type {\n",
       "        vertical-align: middle;\n",
       "    }\n",
       "\n",
       "    .dataframe tbody tr th {\n",
       "        vertical-align: top;\n",
       "    }\n",
       "\n",
       "    .dataframe thead th {\n",
       "        text-align: right;\n",
       "    }\n",
       "</style>\n",
       "<table border=\"1\" class=\"dataframe\">\n",
       "  <thead>\n",
       "    <tr style=\"text-align: right;\">\n",
       "      <th></th>\n",
       "      <th>City</th>\n",
       "      <th>Food</th>\n",
       "      <th>Parks</th>\n",
       "      <th>Museums</th>\n",
       "      <th>Hiking</th>\n",
       "      <th>Beach</th>\n",
       "      <th>Romantic</th>\n",
       "      <th>History</th>\n",
       "      <th>Music</th>\n",
       "      <th>Theater</th>\n",
       "      <th>Sports</th>\n",
       "    </tr>\n",
       "  </thead>\n",
       "  <tbody>\n",
       "    <tr>\n",
       "      <th>0</th>\n",
       "      <td>Dogville</td>\n",
       "      <td>0.157895</td>\n",
       "      <td>0.105263</td>\n",
       "      <td>0.0</td>\n",
       "      <td>0.105263</td>\n",
       "      <td>0.157895</td>\n",
       "      <td>0.105263</td>\n",
       "      <td>0.052632</td>\n",
       "      <td>0.052632</td>\n",
       "      <td>0.105263</td>\n",
       "      <td>0.157895</td>\n",
       "    </tr>\n",
       "  </tbody>\n",
       "</table>\n",
       "</div>"
      ],
      "text/plain": [
       "       City      Food     Parks  Museums    Hiking     Beach  Romantic  \\\n",
       "0  Dogville  0.157895  0.105263      0.0  0.105263  0.157895  0.105263   \n",
       "\n",
       "    History     Music   Theater    Sports  \n",
       "0  0.052632  0.052632  0.105263  0.157895  "
      ]
     },
     "metadata": {},
     "output_type": "display_data"
    },
    {
     "data": {
      "text/html": [
       "<div>\n",
       "<style scoped>\n",
       "    .dataframe tbody tr th:only-of-type {\n",
       "        vertical-align: middle;\n",
       "    }\n",
       "\n",
       "    .dataframe tbody tr th {\n",
       "        vertical-align: top;\n",
       "    }\n",
       "\n",
       "    .dataframe thead th {\n",
       "        text-align: right;\n",
       "    }\n",
       "</style>\n",
       "<table border=\"1\" class=\"dataframe\">\n",
       "  <thead>\n",
       "    <tr style=\"text-align: right;\">\n",
       "      <th></th>\n",
       "      <th>Name</th>\n",
       "      <th>Food</th>\n",
       "      <th>Parks</th>\n",
       "      <th>Museums</th>\n",
       "      <th>Hiking</th>\n",
       "      <th>Beach</th>\n",
       "      <th>Romantic</th>\n",
       "      <th>History</th>\n",
       "      <th>Music</th>\n",
       "      <th>Theater</th>\n",
       "      <th>Sports</th>\n",
       "    </tr>\n",
       "  </thead>\n",
       "  <tbody>\n",
       "    <tr>\n",
       "      <th>12</th>\n",
       "      <td>LUIS</td>\n",
       "      <td>0.090909</td>\n",
       "      <td>0.090909</td>\n",
       "      <td>0.045455</td>\n",
       "      <td>0.090909</td>\n",
       "      <td>0.136364</td>\n",
       "      <td>0.181818</td>\n",
       "      <td>0.090909</td>\n",
       "      <td>0.045455</td>\n",
       "      <td>0.136364</td>\n",
       "      <td>0.090909</td>\n",
       "    </tr>\n",
       "    <tr>\n",
       "      <th>19</th>\n",
       "      <td>EDUARDO</td>\n",
       "      <td>0.210526</td>\n",
       "      <td>0.157895</td>\n",
       "      <td>0.000000</td>\n",
       "      <td>0.052632</td>\n",
       "      <td>0.157895</td>\n",
       "      <td>0.105263</td>\n",
       "      <td>0.000000</td>\n",
       "      <td>0.105263</td>\n",
       "      <td>0.105263</td>\n",
       "      <td>0.105263</td>\n",
       "    </tr>\n",
       "    <tr>\n",
       "      <th>22</th>\n",
       "      <td>RODRIGO</td>\n",
       "      <td>0.073171</td>\n",
       "      <td>0.073171</td>\n",
       "      <td>0.048780</td>\n",
       "      <td>0.097561</td>\n",
       "      <td>0.121951</td>\n",
       "      <td>0.097561</td>\n",
       "      <td>0.073171</td>\n",
       "      <td>0.121951</td>\n",
       "      <td>0.146341</td>\n",
       "      <td>0.146341</td>\n",
       "    </tr>\n",
       "    <tr>\n",
       "      <th>33</th>\n",
       "      <td>GUSTAVO</td>\n",
       "      <td>0.142857</td>\n",
       "      <td>0.142857</td>\n",
       "      <td>0.000000</td>\n",
       "      <td>0.000000</td>\n",
       "      <td>0.214286</td>\n",
       "      <td>0.071429</td>\n",
       "      <td>0.071429</td>\n",
       "      <td>0.000000</td>\n",
       "      <td>0.142857</td>\n",
       "      <td>0.214286</td>\n",
       "    </tr>\n",
       "    <tr>\n",
       "      <th>48</th>\n",
       "      <td>SEBASTIAO</td>\n",
       "      <td>0.095238</td>\n",
       "      <td>0.107143</td>\n",
       "      <td>0.083333</td>\n",
       "      <td>0.059524</td>\n",
       "      <td>0.154762</td>\n",
       "      <td>0.107143</td>\n",
       "      <td>0.107143</td>\n",
       "      <td>0.059524</td>\n",
       "      <td>0.107143</td>\n",
       "      <td>0.119048</td>\n",
       "    </tr>\n",
       "  </tbody>\n",
       "</table>\n",
       "</div>"
      ],
      "text/plain": [
       "         Name      Food     Parks   Museums    Hiking     Beach  Romantic  \\\n",
       "12       LUIS  0.090909  0.090909  0.045455  0.090909  0.136364  0.181818   \n",
       "19    EDUARDO  0.210526  0.157895  0.000000  0.052632  0.157895  0.105263   \n",
       "22    RODRIGO  0.073171  0.073171  0.048780  0.097561  0.121951  0.097561   \n",
       "33    GUSTAVO  0.142857  0.142857  0.000000  0.000000  0.214286  0.071429   \n",
       "48  SEBASTIAO  0.095238  0.107143  0.083333  0.059524  0.154762  0.107143   \n",
       "\n",
       "     History     Music   Theater    Sports  \n",
       "12  0.090909  0.045455  0.136364  0.090909  \n",
       "19  0.000000  0.105263  0.105263  0.105263  \n",
       "22  0.073171  0.121951  0.146341  0.146341  \n",
       "33  0.071429  0.000000  0.142857  0.214286  \n",
       "48  0.107143  0.059524  0.107143  0.119048  "
      ]
     },
     "metadata": {},
     "output_type": "display_data"
    }
   ],
   "source": [
    "display(city_vector[city_vector.index==0])\n",
    "city_users_picks = corr_city_users_df[corr_city_users_df['Similarity']>0.9].index\n",
    "display(user_vector[user_vector.index.isin(city_users_picks)].head())"
   ]
  },
  {
   "cell_type": "markdown",
   "metadata": {
    "id": "FsIfJ8Q75L5_"
   },
   "source": [
    "## 6 City Suggestions\n",
    "For a selected user, we want to make recommendations of cities that match their history and try to rank them. "
   ]
  },
  {
   "cell_type": "markdown",
   "metadata": {
    "id": "vlVdRGqn5L5_"
   },
   "source": [
    "### 6.1 Cosine Similarity\n",
    "The first option is finding cities by similarity with the user vector (done in section 5.1). Another option is to find the users that have the highest cosine similarity (section 4) and find the city that is most common among them."
   ]
  },
  {
   "cell_type": "markdown",
   "metadata": {
    "id": "YaJDo8_u5L6A"
   },
   "source": [
    "Let's build upon we have done in section 4 and try to find the cities visited by those users."
   ]
  },
  {
   "cell_type": "code",
   "execution_count": 23,
   "metadata": {
    "execution": {
     "iopub.execute_input": "2022-01-13T14:40:34.641621Z",
     "iopub.status.busy": "2022-01-13T14:40:34.641382Z",
     "iopub.status.idle": "2022-01-13T14:40:34.658046Z",
     "shell.execute_reply": "2022-01-13T14:40:34.657116Z",
     "shell.execute_reply.started": "2022-01-13T14:40:34.641594Z"
    },
    "id": "SOS3eQRO5L6A",
    "outputId": "ba861811-ad10-4404-de58-e697768c189b"
   },
   "outputs": [
    {
     "data": {
      "text/html": [
       "<div>\n",
       "<style scoped>\n",
       "    .dataframe tbody tr th:only-of-type {\n",
       "        vertical-align: middle;\n",
       "    }\n",
       "\n",
       "    .dataframe tbody tr th {\n",
       "        vertical-align: top;\n",
       "    }\n",
       "\n",
       "    .dataframe thead th {\n",
       "        text-align: right;\n",
       "    }\n",
       "</style>\n",
       "<table border=\"1\" class=\"dataframe\">\n",
       "  <thead>\n",
       "    <tr style=\"text-align: right;\">\n",
       "      <th></th>\n",
       "      <th>Name</th>\n",
       "      <th>Similarity</th>\n",
       "    </tr>\n",
       "  </thead>\n",
       "  <tbody>\n",
       "    <tr>\n",
       "      <th>0</th>\n",
       "      <td>MARIA</td>\n",
       "      <td>1</td>\n",
       "    </tr>\n",
       "    <tr>\n",
       "      <th>53634</th>\n",
       "      <td>GIOVNNA</td>\n",
       "      <td>1</td>\n",
       "    </tr>\n",
       "    <tr>\n",
       "      <th>36407</th>\n",
       "      <td>VESPAZIANO</td>\n",
       "      <td>1</td>\n",
       "    </tr>\n",
       "    <tr>\n",
       "      <th>31049</th>\n",
       "      <td>MACRINA</td>\n",
       "      <td>1</td>\n",
       "    </tr>\n",
       "    <tr>\n",
       "      <th>36962</th>\n",
       "      <td>HENRYQUE</td>\n",
       "      <td>1</td>\n",
       "    </tr>\n",
       "  </tbody>\n",
       "</table>\n",
       "</div>"
      ],
      "text/plain": [
       "             Name Similarity\n",
       "0           MARIA          1\n",
       "53634     GIOVNNA          1\n",
       "36407  VESPAZIANO          1\n",
       "31049     MACRINA          1\n",
       "36962    HENRYQUE          1"
      ]
     },
     "execution_count": 23,
     "metadata": {},
     "output_type": "execute_result"
    }
   ],
   "source": [
    "corr_user_df[corr_user_df['Similarity']>0.9].head()"
   ]
  },
  {
   "cell_type": "markdown",
   "metadata": {
    "id": "IEYanZbA5L6A"
   },
   "source": [
    "We want to create a list of cities visited by these users and how many times each one was visited. We will remove any cities that were already visited by our target."
   ]
  },
  {
   "cell_type": "code",
   "execution_count": 24,
   "metadata": {
    "execution": {
     "iopub.execute_input": "2022-01-13T14:40:34.660422Z",
     "iopub.status.busy": "2022-01-13T14:40:34.660043Z",
     "iopub.status.idle": "2022-01-13T14:40:34.805726Z",
     "shell.execute_reply": "2022-01-13T14:40:34.805079Z",
     "shell.execute_reply.started": "2022-01-13T14:40:34.660375Z"
    },
    "id": "6WIUkqZS5L6A",
    "outputId": "e0a3b08a-70d5-41e1-9631-fd4c09de9786"
   },
   "outputs": [
    {
     "name": "stdout",
     "output_type": "stream",
     "text": [
      "List of cities: [\"Sleeping Beauty's Castle\"] with 5 occurence(s).\n"
     ]
    }
   ],
   "source": [
    "list_corr_names = corr_user_df[corr_user_df['Similarity']>0.9]['Name'].tolist()\n",
    "user_table_filtered = user_table[user_table['Name'].isin(list_corr_names)]\n",
    "list_corr_cities = []\n",
    "list_target = user_table_filtered[user_table_filtered['Name']==user_vector.iloc[0,0]]['City'].unique().tolist()\n",
    "for name in list_corr_names:\n",
    "    if user_vector[user_vector['Name']==name].index != 0:\n",
    "        temp = user_table_filtered[user_table_filtered['Name']==name]['City'].unique().tolist()\n",
    "        list_corr_cities += list(set(temp)-set(list_target))\n",
    "\n",
    "count_corr_cities = {i:list_corr_cities.count(i) for i in list_corr_cities}\n",
    "max_value = max(count_corr_cities.values()) \n",
    "if max_value > 1:\n",
    "    sugg_cities = [k for k, v in count_corr_cities.items() if v == max_value]\n",
    "    \n",
    "else:\n",
    "    sugg_cities = count_corr_cities.keys\n",
    "\n",
    "print('List of cities:', sugg_cities,'with', max_value,'occurence(s).')   \n"
   ]
  },
  {
   "cell_type": "markdown",
   "metadata": {
    "id": "UB64efnd5L6A"
   },
   "source": [
    "Let's check the cosine similarity of these cities with our target user."
   ]
  },
  {
   "cell_type": "code",
   "execution_count": 25,
   "metadata": {
    "execution": {
     "iopub.execute_input": "2022-01-13T14:40:34.807102Z",
     "iopub.status.busy": "2022-01-13T14:40:34.806782Z",
     "iopub.status.idle": "2022-01-13T14:40:34.822812Z",
     "shell.execute_reply": "2022-01-13T14:40:34.822216Z",
     "shell.execute_reply.started": "2022-01-13T14:40:34.807074Z"
    },
    "id": "FSCYTGup5L6A",
    "outputId": "6edabfe5-4d4f-44d4-9bbd-f30dcae2f734"
   },
   "outputs": [
    {
     "data": {
      "text/html": [
       "<div>\n",
       "<style scoped>\n",
       "    .dataframe tbody tr th:only-of-type {\n",
       "        vertical-align: middle;\n",
       "    }\n",
       "\n",
       "    .dataframe tbody tr th {\n",
       "        vertical-align: top;\n",
       "    }\n",
       "\n",
       "    .dataframe thead th {\n",
       "        text-align: right;\n",
       "    }\n",
       "</style>\n",
       "<table border=\"1\" class=\"dataframe\">\n",
       "  <thead>\n",
       "    <tr style=\"text-align: right;\">\n",
       "      <th></th>\n",
       "      <th>City</th>\n",
       "      <th>Similarity</th>\n",
       "    </tr>\n",
       "  </thead>\n",
       "  <tbody>\n",
       "    <tr>\n",
       "      <th>65</th>\n",
       "      <td>Sleeping Beauty's Castle</td>\n",
       "      <td>0.870388</td>\n",
       "    </tr>\n",
       "  </tbody>\n",
       "</table>\n",
       "</div>"
      ],
      "text/plain": [
       "                        City Similarity\n",
       "65  Sleeping Beauty's Castle   0.870388"
      ]
     },
     "execution_count": 25,
     "metadata": {},
     "output_type": "execute_result"
    }
   ],
   "source": [
    "corr_user_cities_test_df = pd.DataFrame(columns=['City','Similarity'])\n",
    "city_vector_filtered = city_vector[city_vector['City'].isin(sugg_cities)]\n",
    "corr_user_cities_test_df['City'] = city_vector_filtered['City']\n",
    "target_vector = [user_vector.iloc[0,1:]]\n",
    "for ii in range(len(city_vector_filtered)):\n",
    "    corr_user_cities_test_df.iloc[ii,1] = float(cosine_similarity(target_vector,[city_vector_filtered.iloc[ii,1:]]))\n",
    "corr_user_cities_test_df = corr_user_cities_test_df.sort_values(by='Similarity',ascending=False)\n",
    "corr_user_cities_test_df"
   ]
  },
  {
   "cell_type": "markdown",
   "metadata": {
    "id": "V1oNqrEx5L6B"
   },
   "source": [
    "Let's compare with cities that matched our user."
   ]
  },
  {
   "cell_type": "code",
   "execution_count": 26,
   "metadata": {
    "execution": {
     "iopub.execute_input": "2022-01-13T14:40:34.824499Z",
     "iopub.status.busy": "2022-01-13T14:40:34.824146Z",
     "iopub.status.idle": "2022-01-13T14:40:34.850540Z",
     "shell.execute_reply": "2022-01-13T14:40:34.849290Z",
     "shell.execute_reply.started": "2022-01-13T14:40:34.824469Z"
    },
    "id": "Pbwnr2VN5L6B",
    "outputId": "685a9fc8-829b-4376-b562-b6fdb0c8ac08"
   },
   "outputs": [
    {
     "data": {
      "text/html": [
       "<div>\n",
       "<style scoped>\n",
       "    .dataframe tbody tr th:only-of-type {\n",
       "        vertical-align: middle;\n",
       "    }\n",
       "\n",
       "    .dataframe tbody tr th {\n",
       "        vertical-align: top;\n",
       "    }\n",
       "\n",
       "    .dataframe thead th {\n",
       "        text-align: right;\n",
       "    }\n",
       "</style>\n",
       "<table border=\"1\" class=\"dataframe\">\n",
       "  <thead>\n",
       "    <tr style=\"text-align: right;\">\n",
       "      <th></th>\n",
       "      <th>City</th>\n",
       "      <th>Similarity</th>\n",
       "    </tr>\n",
       "  </thead>\n",
       "  <tbody>\n",
       "  </tbody>\n",
       "</table>\n",
       "</div>"
      ],
      "text/plain": [
       "Empty DataFrame\n",
       "Columns: [City, Similarity]\n",
       "Index: []"
      ]
     },
     "execution_count": 26,
     "metadata": {},
     "output_type": "execute_result"
    }
   ],
   "source": [
    "corr_user_cities_df[corr_user_cities_df['Similarity']>0.9]"
   ]
  },
  {
   "cell_type": "markdown",
   "metadata": {
    "id": "eGUTKRxj5L6B"
   },
   "source": [
    "### 6.2 Association Rule Learning - *A Priori*"
   ]
  },
  {
   "cell_type": "markdown",
   "metadata": {
    "id": "cQbMqlNg5L6B"
   },
   "source": [
    "For this approach, we will try to extract knowledge from the user database. Let's try to create rules of association of the kind \"*People who visited the city A should also visit city B.*\" We are going to use the library **apyori**, but we need to work on our user data."
   ]
  },
  {
   "cell_type": "markdown",
   "metadata": {
    "id": "JEJObtTW5L6B"
   },
   "source": [
    "Our input data needs to be a list where each component is the list of cities visited by the users."
   ]
  },
  {
   "cell_type": "code",
   "execution_count": 27,
   "metadata": {},
   "outputs": [
    {
     "data": {
      "text/plain": [
       "[['Spoonerville'],\n",
       " ['Elwood City'],\n",
       " ['Arkham', 'Zanaris', 'Sto Lat'],\n",
       " ['Damon'],\n",
       " ['Mayberry', 'Springfield', 'Shermer'],\n",
       " ['Puddleby-on-the-Marsh', 'San Mondell', 'Vermilion Sands'],\n",
       " ['Shire', 'Domain', 'Castle Revolving'],\n",
       " ['Radiant City', \"Baldur's Gate\"],\n",
       " ['Ruto'],\n",
       " ['Stackton Tressel']]"
      ]
     },
     "execution_count": 27,
     "metadata": {},
     "output_type": "execute_result"
    }
   ],
   "source": [
    "list_cities_visited = []\n",
    "temp = [user_table.iloc[0,1]]\n",
    "for ii in range(1,len(user_table)):\n",
    "    if user_table.iloc[ii,0] == user_table.iloc[ii-1,0]:\n",
    "        temp += [user_table.iloc[ii,1]]\n",
    "    else:\n",
    "        list_cities_visited.append(list(set(temp)))\n",
    "        temp=[user_table.iloc[ii,1]]\n",
    "list_cities_visited.append(list(set(temp)))\n",
    "list_cities_visited[:10]"
   ]
  },
  {
   "cell_type": "markdown",
   "metadata": {},
   "source": [
    "Now we run the association rule algorithm based on the above list and get the relationship between two different cities."
   ]
  },
  {
   "cell_type": "code",
   "execution_count": 28,
   "metadata": {
    "execution": {
     "iopub.execute_input": "2022-01-13T14:49:55.783802Z",
     "iopub.status.busy": "2022-01-13T14:49:55.783547Z",
     "iopub.status.idle": "2022-01-13T14:49:55.788686Z",
     "shell.execute_reply": "2022-01-13T14:49:55.787622Z",
     "shell.execute_reply.started": "2022-01-13T14:49:55.783757Z"
    },
    "id": "c73tpRbu5L6B"
   },
   "outputs": [],
   "source": [
    "rules = apriori(transactions=list_cities_visited, min_support=1e-10, min_confidence=1e-10, min_lift=1.00001, min_length=2, max_length=2)"
   ]
  },
  {
   "cell_type": "code",
   "execution_count": 29,
   "metadata": {
    "execution": {
     "iopub.execute_input": "2022-01-13T14:49:55.790041Z",
     "iopub.status.busy": "2022-01-13T14:49:55.789830Z",
     "iopub.status.idle": "2022-01-13T14:49:58.218273Z",
     "shell.execute_reply": "2022-01-13T14:49:58.217280Z",
     "shell.execute_reply.started": "2022-01-13T14:49:55.790016Z"
    },
    "id": "OYkKpPYJ5L6C"
   },
   "outputs": [],
   "source": [
    "results = list(rules)\n",
    "\n",
    "def inspect(results):\n",
    "    lhs         = [tuple(result[2][0][0])[0] for result in results]\n",
    "    rhs         = [tuple(result[2][0][1])[0] for result in results]\n",
    "    supports    = [result[1] for result in results]\n",
    "    confidences = [result[2][0][2] for result in results]\n",
    "    lifts       = [result[2][0][3] for result in results]\n",
    "    return list(zip(lhs,rhs,supports,confidences,lifts))\n",
    "\n",
    "results_df = pd.DataFrame(inspect(results), columns=['City1', 'City2', 'Support', 'Confidence','Lift'])\n"
   ]
  },
  {
   "cell_type": "code",
   "execution_count": 30,
   "metadata": {
    "execution": {
     "iopub.execute_input": "2022-01-13T14:49:58.220186Z",
     "iopub.status.busy": "2022-01-13T14:49:58.219902Z",
     "iopub.status.idle": "2022-01-13T14:49:58.233909Z",
     "shell.execute_reply": "2022-01-13T14:49:58.232880Z",
     "shell.execute_reply.started": "2022-01-13T14:49:58.220153Z"
    },
    "id": "1YeNXWz95L6C",
    "outputId": "51d5c8ad-1552-4290-d7f5-4d81d9e3ee95"
   },
   "outputs": [
    {
     "name": "stdout",
     "output_type": "stream",
     "text": [
      "Number of associations: 192311\n"
     ]
    },
    {
     "data": {
      "text/html": [
       "<div>\n",
       "<style scoped>\n",
       "    .dataframe tbody tr th:only-of-type {\n",
       "        vertical-align: middle;\n",
       "    }\n",
       "\n",
       "    .dataframe tbody tr th {\n",
       "        vertical-align: top;\n",
       "    }\n",
       "\n",
       "    .dataframe thead th {\n",
       "        text-align: right;\n",
       "    }\n",
       "</style>\n",
       "<table border=\"1\" class=\"dataframe\">\n",
       "  <thead>\n",
       "    <tr style=\"text-align: right;\">\n",
       "      <th></th>\n",
       "      <th>City1</th>\n",
       "      <th>City2</th>\n",
       "      <th>Support</th>\n",
       "      <th>Confidence</th>\n",
       "      <th>Lift</th>\n",
       "    </tr>\n",
       "  </thead>\n",
       "  <tbody>\n",
       "    <tr>\n",
       "      <th>0</th>\n",
       "      <td>ACDC Town</td>\n",
       "      <td>Acme Acres</td>\n",
       "      <td>0.000016</td>\n",
       "      <td>0.008065</td>\n",
       "      <td>3.686685</td>\n",
       "    </tr>\n",
       "    <tr>\n",
       "      <th>1</th>\n",
       "      <td>ACDC Town</td>\n",
       "      <td>Addley</td>\n",
       "      <td>0.000031</td>\n",
       "      <td>0.016129</td>\n",
       "      <td>6.707388</td>\n",
       "    </tr>\n",
       "    <tr>\n",
       "      <th>2</th>\n",
       "      <td>ACDC Town</td>\n",
       "      <td>Aincrad</td>\n",
       "      <td>0.000016</td>\n",
       "      <td>0.008065</td>\n",
       "      <td>3.635123</td>\n",
       "    </tr>\n",
       "    <tr>\n",
       "      <th>3</th>\n",
       "      <td>ACDC Town</td>\n",
       "      <td>Air Temple</td>\n",
       "      <td>0.000016</td>\n",
       "      <td>0.008065</td>\n",
       "      <td>3.609879</td>\n",
       "    </tr>\n",
       "    <tr>\n",
       "      <th>4</th>\n",
       "      <td>ACDC Town</td>\n",
       "      <td>Al Khali</td>\n",
       "      <td>0.000016</td>\n",
       "      <td>0.008065</td>\n",
       "      <td>3.609879</td>\n",
       "    </tr>\n",
       "  </tbody>\n",
       "</table>\n",
       "</div>"
      ],
      "text/plain": [
       "       City1       City2   Support  Confidence      Lift\n",
       "0  ACDC Town  Acme Acres  0.000016    0.008065  3.686685\n",
       "1  ACDC Town      Addley  0.000031    0.016129  6.707388\n",
       "2  ACDC Town     Aincrad  0.000016    0.008065  3.635123\n",
       "3  ACDC Town  Air Temple  0.000016    0.008065  3.609879\n",
       "4  ACDC Town    Al Khali  0.000016    0.008065  3.609879"
      ]
     },
     "execution_count": 30,
     "metadata": {},
     "output_type": "execute_result"
    }
   ],
   "source": [
    "print('Number of associations:', len(results_df))\n",
    "results_df.head()"
   ]
  },
  {
   "cell_type": "markdown",
   "metadata": {
    "id": "3oRBUZZ85L6C"
   },
   "source": [
    "Let's check what cities are suggested by the algorithm for the first city, sorted by how strong this reccomendation is."
   ]
  },
  {
   "cell_type": "code",
   "execution_count": 31,
   "metadata": {
    "execution": {
     "iopub.execute_input": "2022-01-13T14:49:58.235759Z",
     "iopub.status.busy": "2022-01-13T14:49:58.235534Z",
     "iopub.status.idle": "2022-01-13T14:49:58.265419Z",
     "shell.execute_reply": "2022-01-13T14:49:58.264395Z",
     "shell.execute_reply.started": "2022-01-13T14:49:58.235732Z"
    },
    "id": "8uCAndp-5L6C",
    "outputId": "76339560-b984-4a8a-c687-6f05ca35dd1a"
   },
   "outputs": [
    {
     "data": {
      "text/html": [
       "<div>\n",
       "<style scoped>\n",
       "    .dataframe tbody tr th:only-of-type {\n",
       "        vertical-align: middle;\n",
       "    }\n",
       "\n",
       "    .dataframe tbody tr th {\n",
       "        vertical-align: top;\n",
       "    }\n",
       "\n",
       "    .dataframe thead th {\n",
       "        text-align: right;\n",
       "    }\n",
       "</style>\n",
       "<table border=\"1\" class=\"dataframe\">\n",
       "  <thead>\n",
       "    <tr style=\"text-align: right;\">\n",
       "      <th></th>\n",
       "      <th>City1</th>\n",
       "      <th>City2</th>\n",
       "      <th>Support</th>\n",
       "      <th>Confidence</th>\n",
       "      <th>Lift</th>\n",
       "    </tr>\n",
       "  </thead>\n",
       "  <tbody>\n",
       "    <tr>\n",
       "      <th>80377</th>\n",
       "      <td>Dogville</td>\n",
       "      <td>Hensonville</td>\n",
       "      <td>0.000062</td>\n",
       "      <td>0.029851</td>\n",
       "      <td>14.359100</td>\n",
       "    </tr>\n",
       "    <tr>\n",
       "      <th>80520</th>\n",
       "      <td>Dogville</td>\n",
       "      <td>Santa Mira</td>\n",
       "      <td>0.000047</td>\n",
       "      <td>0.022388</td>\n",
       "      <td>10.610953</td>\n",
       "    </tr>\n",
       "    <tr>\n",
       "      <th>80481</th>\n",
       "      <td>Dogville</td>\n",
       "      <td>Plant</td>\n",
       "      <td>0.000047</td>\n",
       "      <td>0.022388</td>\n",
       "      <td>9.884175</td>\n",
       "    </tr>\n",
       "    <tr>\n",
       "      <th>80461</th>\n",
       "      <td>Dogville</td>\n",
       "      <td>Oakmoor Crossing</td>\n",
       "      <td>0.000047</td>\n",
       "      <td>0.022388</td>\n",
       "      <td>9.816936</td>\n",
       "    </tr>\n",
       "    <tr>\n",
       "      <th>80427</th>\n",
       "      <td>Dogville</td>\n",
       "      <td>Mariposa</td>\n",
       "      <td>0.000047</td>\n",
       "      <td>0.022388</td>\n",
       "      <td>9.750605</td>\n",
       "    </tr>\n",
       "  </tbody>\n",
       "</table>\n",
       "</div>"
      ],
      "text/plain": [
       "          City1             City2   Support  Confidence       Lift\n",
       "80377  Dogville       Hensonville  0.000062    0.029851  14.359100\n",
       "80520  Dogville        Santa Mira  0.000047    0.022388  10.610953\n",
       "80481  Dogville             Plant  0.000047    0.022388   9.884175\n",
       "80461  Dogville  Oakmoor Crossing  0.000047    0.022388   9.816936\n",
       "80427  Dogville         Mariposa   0.000047    0.022388   9.750605"
      ]
     },
     "execution_count": 31,
     "metadata": {},
     "output_type": "execute_result"
    }
   ],
   "source": [
    "results_df[results_df['City1']==city_vector.iloc[0,0]].sort_values(by='Lift',ascending=False).head(5)"
   ]
  },
  {
   "cell_type": "markdown",
   "metadata": {
    "id": "9Nji4T_Y5L6C"
   },
   "source": [
    "This output extracts the relation between two cities based on the user data. We don't have data covering all possible pairs of cities."
   ]
  },
  {
   "cell_type": "markdown",
   "metadata": {
    "id": "spm-1Tcg5L6C"
   },
   "source": [
    "### 6.3 Final Approach\n",
    "What we expect from our algorithm is to get five new cities that an user should consider visiting based on his/her history and the data from all users.<br>\n",
    "For that specific user, we retrieve the list of cities visited and filter the results of our association rule learning. We sort them by *Lift* and present the five cities with the highest score, checking for repeated results. <br>\n",
    "We might have special cases where we don't have five cities in our results. To complete our list, we will go back to our simpler correlation system, with the cities with largest correlation to the user that are not already on the list."
   ]
  },
  {
   "cell_type": "markdown",
   "metadata": {
    "id": "0Ty0iMkP5L6C"
   },
   "source": [
    "## 7 Activities recommendation\n",
    "For each of the cities on our suggestion list, we will use the association rule learning to show us five activites that best match our user's past experiences.<br>\n",
    "Let's try to create rules of association of the kind \"People who visited the atraction X in city A should also visit atraction Y in city B.\" Again, we need to work on our user data."
   ]
  },
  {
   "cell_type": "code",
   "execution_count": 32,
   "metadata": {},
   "outputs": [
    {
     "data": {
      "text/plain": [
       "[['Spoonerville - Activity04',\n",
       "  'Spoonerville - Activity03',\n",
       "  'Spoonerville - Activity02'],\n",
       " ['Elwood City - Activity02'],\n",
       " ['Arkham - Activity07',\n",
       "  'Sto Lat - Activity02',\n",
       "  'Sto Lat - Activity03',\n",
       "  'Arkham - Activity10',\n",
       "  'Zanaris - Activity07',\n",
       "  'Arkham - Activity01',\n",
       "  'Arkham - Activity06',\n",
       "  'Sto Lat - Activity05',\n",
       "  'Zanaris - Activity09',\n",
       "  'Arkham - Activity09',\n",
       "  'Arkham - Activity04',\n",
       "  'Zanaris - Activity03',\n",
       "  'Sto Lat - Activity06',\n",
       "  'Arkham - Activity03',\n",
       "  'Sto Lat - Activity04',\n",
       "  'Sto Lat - Activity01',\n",
       "  'Arkham - Activity08',\n",
       "  'Zanaris - Activity02',\n",
       "  'Arkham - Activity02'],\n",
       " ['Damon - Activity13',\n",
       "  'Damon - Activity15',\n",
       "  'Damon - Activity05',\n",
       "  'Damon - Activity11',\n",
       "  'Damon - Activity02',\n",
       "  'Damon - Activity16',\n",
       "  'Damon - Activity09']]"
      ]
     },
     "execution_count": 32,
     "metadata": {},
     "output_type": "execute_result"
    }
   ],
   "source": [
    "user_table['City-Act'] = user_table['City']+' - '+user_table['Activity']\n",
    "list_act_visited = []\n",
    "temp = [user_table.iloc[0,-1]]\n",
    "for ii in range(1,len(user_table)):\n",
    "    if user_table.iloc[ii,0] == user_table.iloc[ii-1,0]:\n",
    "        temp += [user_table.iloc[ii,-1]]\n",
    "    else:\n",
    "        list_act_visited.append(list(set(temp)))\n",
    "        temp=[user_table.iloc[ii,-1]]\n",
    "list_act_visited.append(list(set(temp)))\n",
    "list_act_visited[:4]"
   ]
  },
  {
   "cell_type": "markdown",
   "metadata": {},
   "source": [
    "Now we run the association rule algorithm based on the above list and get the relationship between two different activities."
   ]
  },
  {
   "cell_type": "code",
   "execution_count": 33,
   "metadata": {
    "execution": {
     "iopub.execute_input": "2022-01-13T14:59:19.493032Z",
     "iopub.status.busy": "2022-01-13T14:59:19.491724Z",
     "iopub.status.idle": "2022-01-13T15:02:17.494078Z",
     "shell.execute_reply": "2022-01-13T15:02:17.492988Z",
     "shell.execute_reply.started": "2022-01-13T14:59:19.492997Z"
    },
    "id": "-q5BlFeB5L6D"
   },
   "outputs": [],
   "source": [
    "rules_act = apriori(transactions=list_act_visited, min_support=1e-10, min_confidence=1e-10, min_lift=1.00001, min_length=2, max_length=2)\n",
    "results_act = list(rules_act)\n",
    "results_act_df = pd.DataFrame(inspect(results_act), columns=['Activity1', 'Activity2', 'Support', 'Confidence','Lift'])\n",
    "results_act_df[['City2','Activity2']] = results_act_df['Activity2'].str.split(\" - \",expand=True)\n",
    "results_act_df = results_act_df[['Activity1','City2','Activity2','Support', 'Confidence', 'Lift']]"
   ]
  },
  {
   "cell_type": "code",
   "execution_count": 34,
   "metadata": {
    "execution": {
     "iopub.execute_input": "2022-01-13T15:02:17.495861Z",
     "iopub.status.busy": "2022-01-13T15:02:17.495514Z",
     "iopub.status.idle": "2022-01-13T15:02:17.510929Z",
     "shell.execute_reply": "2022-01-13T15:02:17.510305Z",
     "shell.execute_reply.started": "2022-01-13T15:02:17.495826Z"
    },
    "id": "2dd6BODW5L6D"
   },
   "outputs": [
    {
     "data": {
      "text/plain": [
       "10315297"
      ]
     },
     "metadata": {},
     "output_type": "display_data"
    },
    {
     "data": {
      "text/html": [
       "<div>\n",
       "<style scoped>\n",
       "    .dataframe tbody tr th:only-of-type {\n",
       "        vertical-align: middle;\n",
       "    }\n",
       "\n",
       "    .dataframe tbody tr th {\n",
       "        vertical-align: top;\n",
       "    }\n",
       "\n",
       "    .dataframe thead th {\n",
       "        text-align: right;\n",
       "    }\n",
       "</style>\n",
       "<table border=\"1\" class=\"dataframe\">\n",
       "  <thead>\n",
       "    <tr style=\"text-align: right;\">\n",
       "      <th></th>\n",
       "      <th>Activity1</th>\n",
       "      <th>City2</th>\n",
       "      <th>Activity2</th>\n",
       "      <th>Support</th>\n",
       "      <th>Confidence</th>\n",
       "      <th>Lift</th>\n",
       "    </tr>\n",
       "  </thead>\n",
       "  <tbody>\n",
       "    <tr>\n",
       "      <th>0</th>\n",
       "      <td>ACDC Town - Activity01</td>\n",
       "      <td>ACDC Town</td>\n",
       "      <td>Activity02</td>\n",
       "      <td>0.000776</td>\n",
       "      <td>0.735294</td>\n",
       "      <td>607.635747</td>\n",
       "    </tr>\n",
       "    <tr>\n",
       "      <th>1</th>\n",
       "      <td>ACDC Town - Activity01</td>\n",
       "      <td>ACDC Town</td>\n",
       "      <td>Activity03</td>\n",
       "      <td>0.000745</td>\n",
       "      <td>0.705882</td>\n",
       "      <td>659.416880</td>\n",
       "    </tr>\n",
       "    <tr>\n",
       "      <th>2</th>\n",
       "      <td>ACDC Town - Activity01</td>\n",
       "      <td>ACDC Town</td>\n",
       "      <td>Activity04</td>\n",
       "      <td>0.000760</td>\n",
       "      <td>0.720588</td>\n",
       "      <td>663.538235</td>\n",
       "    </tr>\n",
       "    <tr>\n",
       "      <th>3</th>\n",
       "      <td>ACDC Town - Activity01</td>\n",
       "      <td>ACDC Town</td>\n",
       "      <td>Activity05</td>\n",
       "      <td>0.000714</td>\n",
       "      <td>0.676471</td>\n",
       "      <td>589.242448</td>\n",
       "    </tr>\n",
       "    <tr>\n",
       "      <th>4</th>\n",
       "      <td>ACDC Town - Activity01</td>\n",
       "      <td>ACDC Town</td>\n",
       "      <td>Activity06</td>\n",
       "      <td>0.000698</td>\n",
       "      <td>0.661765</td>\n",
       "      <td>576.432830</td>\n",
       "    </tr>\n",
       "  </tbody>\n",
       "</table>\n",
       "</div>"
      ],
      "text/plain": [
       "                Activity1      City2   Activity2   Support  Confidence  \\\n",
       "0  ACDC Town - Activity01  ACDC Town  Activity02  0.000776    0.735294   \n",
       "1  ACDC Town - Activity01  ACDC Town  Activity03  0.000745    0.705882   \n",
       "2  ACDC Town - Activity01  ACDC Town  Activity04  0.000760    0.720588   \n",
       "3  ACDC Town - Activity01  ACDC Town  Activity05  0.000714    0.676471   \n",
       "4  ACDC Town - Activity01  ACDC Town  Activity06  0.000698    0.661765   \n",
       "\n",
       "         Lift  \n",
       "0  607.635747  \n",
       "1  659.416880  \n",
       "2  663.538235  \n",
       "3  589.242448  \n",
       "4  576.432830  "
      ]
     },
     "execution_count": 34,
     "metadata": {},
     "output_type": "execute_result"
    }
   ],
   "source": [
    "display(len(results_act_df))\n",
    "results_act_df.head()"
   ]
  },
  {
   "cell_type": "markdown",
   "metadata": {},
   "source": [
    "Let's check what activities are suggested by the algorithm for the first activity of the first user, sorted by how strong this reccomendation is."
   ]
  },
  {
   "cell_type": "code",
   "execution_count": 35,
   "metadata": {
    "execution": {
     "iopub.execute_input": "2022-01-13T15:02:17.512585Z",
     "iopub.status.busy": "2022-01-13T15:02:17.512054Z",
     "iopub.status.idle": "2022-01-13T15:02:17.872440Z",
     "shell.execute_reply": "2022-01-13T15:02:17.871780Z",
     "shell.execute_reply.started": "2022-01-13T15:02:17.512544Z"
    },
    "id": "ikGFd6gr5L6D"
   },
   "outputs": [
    {
     "data": {
      "text/html": [
       "<div>\n",
       "<style scoped>\n",
       "    .dataframe tbody tr th:only-of-type {\n",
       "        vertical-align: middle;\n",
       "    }\n",
       "\n",
       "    .dataframe tbody tr th {\n",
       "        vertical-align: top;\n",
       "    }\n",
       "\n",
       "    .dataframe thead th {\n",
       "        text-align: right;\n",
       "    }\n",
       "</style>\n",
       "<table border=\"1\" class=\"dataframe\">\n",
       "  <thead>\n",
       "    <tr style=\"text-align: right;\">\n",
       "      <th></th>\n",
       "      <th>Activity1</th>\n",
       "      <th>City2</th>\n",
       "      <th>Activity2</th>\n",
       "      <th>Support</th>\n",
       "      <th>Confidence</th>\n",
       "      <th>Lift</th>\n",
       "    </tr>\n",
       "  </thead>\n",
       "  <tbody>\n",
       "    <tr>\n",
       "      <th>10018348</th>\n",
       "      <td>Spoonerville - Activity04</td>\n",
       "      <td>Twin Peaks</td>\n",
       "      <td>Activity05</td>\n",
       "      <td>0.000031</td>\n",
       "      <td>0.023810</td>\n",
       "      <td>19.931354</td>\n",
       "    </tr>\n",
       "    <tr>\n",
       "      <th>10018352</th>\n",
       "      <td>Spoonerville - Activity04</td>\n",
       "      <td>Twin Peaks</td>\n",
       "      <td>Activity09</td>\n",
       "      <td>0.000031</td>\n",
       "      <td>0.023810</td>\n",
       "      <td>19.426763</td>\n",
       "    </tr>\n",
       "    <tr>\n",
       "      <th>10018350</th>\n",
       "      <td>Spoonerville - Activity04</td>\n",
       "      <td>Twin Peaks</td>\n",
       "      <td>Activity07</td>\n",
       "      <td>0.000031</td>\n",
       "      <td>0.023810</td>\n",
       "      <td>17.845515</td>\n",
       "    </tr>\n",
       "    <tr>\n",
       "      <th>10018443</th>\n",
       "      <td>Spoonerville - Activity04</td>\n",
       "      <td>Winter River</td>\n",
       "      <td>Activity01</td>\n",
       "      <td>0.000031</td>\n",
       "      <td>0.023810</td>\n",
       "      <td>15.502165</td>\n",
       "    </tr>\n",
       "    <tr>\n",
       "      <th>10018293</th>\n",
       "      <td>Spoonerville - Activity04</td>\n",
       "      <td>The City of Light</td>\n",
       "      <td>Activity03</td>\n",
       "      <td>0.000016</td>\n",
       "      <td>0.011905</td>\n",
       "      <td>13.462406</td>\n",
       "    </tr>\n",
       "  </tbody>\n",
       "</table>\n",
       "</div>"
      ],
      "text/plain": [
       "                          Activity1              City2   Activity2   Support  \\\n",
       "10018348  Spoonerville - Activity04         Twin Peaks  Activity05  0.000031   \n",
       "10018352  Spoonerville - Activity04         Twin Peaks  Activity09  0.000031   \n",
       "10018350  Spoonerville - Activity04         Twin Peaks  Activity07  0.000031   \n",
       "10018443  Spoonerville - Activity04       Winter River  Activity01  0.000031   \n",
       "10018293  Spoonerville - Activity04  The City of Light  Activity03  0.000016   \n",
       "\n",
       "          Confidence       Lift  \n",
       "10018348    0.023810  19.931354  \n",
       "10018352    0.023810  19.426763  \n",
       "10018350    0.023810  17.845515  \n",
       "10018443    0.023810  15.502165  \n",
       "10018293    0.011905  13.462406  "
      ]
     },
     "execution_count": 35,
     "metadata": {},
     "output_type": "execute_result"
    }
   ],
   "source": [
    "results_act_df[results_act_df['Activity1']==user_table.iloc[0,1]+' - '+user_table.iloc[0,2]].sort_values(by='Lift',ascending=False).head()"
   ]
  },
  {
   "cell_type": "markdown",
   "metadata": {
    "id": "Z8nLHL5q5L6D"
   },
   "source": [
    "For the activities, we won't complete the list if there are less than five."
   ]
  },
  {
   "cell_type": "code",
   "execution_count": 36,
   "metadata": {
    "execution": {
     "iopub.execute_input": "2022-01-13T15:02:17.874240Z",
     "iopub.status.busy": "2022-01-13T15:02:17.873803Z",
     "iopub.status.idle": "2022-01-13T15:02:18.894083Z",
     "shell.execute_reply": "2022-01-13T15:02:18.893207Z",
     "shell.execute_reply.started": "2022-01-13T15:02:17.874207Z"
    },
    "id": "ZX7yer_Q5L6D"
   },
   "outputs": [
    {
     "data": {
      "text/html": [
       "<div>\n",
       "<style scoped>\n",
       "    .dataframe tbody tr th:only-of-type {\n",
       "        vertical-align: middle;\n",
       "    }\n",
       "\n",
       "    .dataframe tbody tr th {\n",
       "        vertical-align: top;\n",
       "    }\n",
       "\n",
       "    .dataframe thead th {\n",
       "        text-align: right;\n",
       "    }\n",
       "</style>\n",
       "<table border=\"1\" class=\"dataframe\">\n",
       "  <thead>\n",
       "    <tr style=\"text-align: right;\">\n",
       "      <th></th>\n",
       "      <th>Activity1</th>\n",
       "      <th>City2</th>\n",
       "      <th>Activity2</th>\n",
       "      <th>Support</th>\n",
       "      <th>Confidence</th>\n",
       "      <th>Lift</th>\n",
       "    </tr>\n",
       "  </thead>\n",
       "  <tbody>\n",
       "    <tr>\n",
       "      <th>7009844</th>\n",
       "      <td>Jump City - Activity01</td>\n",
       "      <td>Oxrun Station</td>\n",
       "      <td>Activity01</td>\n",
       "      <td>0.000016</td>\n",
       "      <td>0.006329</td>\n",
       "      <td>2.632013</td>\n",
       "    </tr>\n",
       "    <tr>\n",
       "      <th>3123442</th>\n",
       "      <td>Coolsville - Activity01</td>\n",
       "      <td>vendor</td>\n",
       "      <td>Activity01</td>\n",
       "      <td>0.000016</td>\n",
       "      <td>0.006579</td>\n",
       "      <td>2.585767</td>\n",
       "    </tr>\n",
       "    <tr>\n",
       "      <th>8632058</th>\n",
       "      <td>New Kasuto - Activity01</td>\n",
       "      <td>vendor</td>\n",
       "      <td>Activity01</td>\n",
       "      <td>0.000016</td>\n",
       "      <td>0.006579</td>\n",
       "      <td>2.585767</td>\n",
       "    </tr>\n",
       "    <tr>\n",
       "      <th>9064691</th>\n",
       "      <td>Oxrun Station - Activity01</td>\n",
       "      <td>vendor</td>\n",
       "      <td>Activity01</td>\n",
       "      <td>0.000016</td>\n",
       "      <td>0.006452</td>\n",
       "      <td>2.535720</td>\n",
       "    </tr>\n",
       "    <tr>\n",
       "      <th>7011022</th>\n",
       "      <td>Jump City - Activity01</td>\n",
       "      <td>vendor</td>\n",
       "      <td>Activity01</td>\n",
       "      <td>0.000016</td>\n",
       "      <td>0.006329</td>\n",
       "      <td>2.487573</td>\n",
       "    </tr>\n",
       "  </tbody>\n",
       "</table>\n",
       "</div>"
      ],
      "text/plain": [
       "                          Activity1          City2   Activity2   Support  \\\n",
       "7009844      Jump City - Activity01  Oxrun Station  Activity01  0.000016   \n",
       "3123442     Coolsville - Activity01        vendor   Activity01  0.000016   \n",
       "8632058     New Kasuto - Activity01        vendor   Activity01  0.000016   \n",
       "9064691  Oxrun Station - Activity01        vendor   Activity01  0.000016   \n",
       "7011022      Jump City - Activity01        vendor   Activity01  0.000016   \n",
       "\n",
       "         Confidence      Lift  \n",
       "7009844    0.006329  2.632013  \n",
       "3123442    0.006579  2.585767  \n",
       "8632058    0.006579  2.585767  \n",
       "9064691    0.006452  2.535720  \n",
       "7011022    0.006329  2.487573  "
      ]
     },
     "execution_count": 36,
     "metadata": {},
     "output_type": "execute_result"
    }
   ],
   "source": [
    "results_act_df.sort_values(by='Lift',ascending=False).tail()"
   ]
  },
  {
   "cell_type": "code",
   "execution_count": 37,
   "metadata": {
    "execution": {
     "iopub.execute_input": "2022-01-13T15:02:18.896166Z",
     "iopub.status.busy": "2022-01-13T15:02:18.895592Z",
     "iopub.status.idle": "2022-01-13T15:02:42.892550Z",
     "shell.execute_reply": "2022-01-13T15:02:42.891567Z",
     "shell.execute_reply.started": "2022-01-13T15:02:18.896098Z"
    }
   },
   "outputs": [],
   "source": [
    "#user_table.to_csv('user_table_final.csv',sep=';',index=False)\n",
    "#city_table.to_csv('city_table_final.csv',sep=';',index=False)\n",
    "#results_df.to_csv('results_df_final.csv',sep=';',index=False)\n",
    "#results_act_df.to_csv('results_act_df_final.csv',sep=';',index=False)\n"
   ]
  },
  {
   "cell_type": "markdown",
   "metadata": {},
   "source": [
    "## 8. Full Recomendation\n",
    "Before we get to our final answer, where we can select an user and see the recomendations, let's try to get everything in order for a single user."
   ]
  },
  {
   "cell_type": "code",
   "execution_count": 38,
   "metadata": {
    "execution": {
     "iopub.execute_input": "2022-01-13T15:02:42.894263Z",
     "iopub.status.busy": "2022-01-13T15:02:42.893940Z",
     "iopub.status.idle": "2022-01-13T15:02:42.898921Z",
     "shell.execute_reply": "2022-01-13T15:02:42.897847Z",
     "shell.execute_reply.started": "2022-01-13T15:02:42.894226Z"
    }
   },
   "outputs": [],
   "source": [
    "#my name!\n",
    "user_target = \"RODRIGO\""
   ]
  },
  {
   "cell_type": "code",
   "execution_count": 39,
   "metadata": {
    "execution": {
     "iopub.execute_input": "2022-01-13T15:02:42.900469Z",
     "iopub.status.busy": "2022-01-13T15:02:42.900226Z",
     "iopub.status.idle": "2022-01-13T15:02:42.950613Z",
     "shell.execute_reply": "2022-01-13T15:02:42.949530Z",
     "shell.execute_reply.started": "2022-01-13T15:02:42.900438Z"
    },
    "id": "TvEwBawG5L6D"
   },
   "outputs": [
    {
     "data": {
      "text/plain": [
       "['Nabooru', 'Bönk', 'San Andreas']"
      ]
     },
     "execution_count": 39,
     "metadata": {},
     "output_type": "execute_result"
    }
   ],
   "source": [
    "cities_visited_target = list(set(user_table[user_table['Name']==user_target]['City']))\n",
    "cities_visited_target"
   ]
  },
  {
   "cell_type": "code",
   "execution_count": 40,
   "metadata": {
    "execution": {
     "iopub.execute_input": "2022-01-13T15:02:42.952760Z",
     "iopub.status.busy": "2022-01-13T15:02:42.952122Z",
     "iopub.status.idle": "2022-01-13T15:02:42.986962Z",
     "shell.execute_reply": "2022-01-13T15:02:42.986212Z",
     "shell.execute_reply.started": "2022-01-13T15:02:42.952713Z"
    },
    "id": "aXp8TnAh5L6E"
   },
   "outputs": [
    {
     "data": {
      "text/html": [
       "<div>\n",
       "<style scoped>\n",
       "    .dataframe tbody tr th:only-of-type {\n",
       "        vertical-align: middle;\n",
       "    }\n",
       "\n",
       "    .dataframe tbody tr th {\n",
       "        vertical-align: top;\n",
       "    }\n",
       "\n",
       "    .dataframe thead th {\n",
       "        text-align: right;\n",
       "    }\n",
       "</style>\n",
       "<table border=\"1\" class=\"dataframe\">\n",
       "  <thead>\n",
       "    <tr style=\"text-align: right;\">\n",
       "      <th></th>\n",
       "      <th>City1</th>\n",
       "      <th>City2</th>\n",
       "      <th>Support</th>\n",
       "      <th>Confidence</th>\n",
       "      <th>Lift</th>\n",
       "    </tr>\n",
       "  </thead>\n",
       "  <tbody>\n",
       "    <tr>\n",
       "      <th>48220</th>\n",
       "      <td>Bönk</td>\n",
       "      <td>Vetusta</td>\n",
       "      <td>0.000062</td>\n",
       "      <td>0.027778</td>\n",
       "      <td>13.069343</td>\n",
       "    </tr>\n",
       "    <tr>\n",
       "      <th>48021</th>\n",
       "      <td>Bönk</td>\n",
       "      <td>Liberty City</td>\n",
       "      <td>0.000047</td>\n",
       "      <td>0.020833</td>\n",
       "      <td>11.779605</td>\n",
       "    </tr>\n",
       "    <tr>\n",
       "      <th>47905</th>\n",
       "      <td>Bönk</td>\n",
       "      <td>Capitol City</td>\n",
       "      <td>0.000062</td>\n",
       "      <td>0.027778</td>\n",
       "      <td>11.190625</td>\n",
       "    </tr>\n",
       "    <tr>\n",
       "      <th>48028</th>\n",
       "      <td>Bönk</td>\n",
       "      <td>London Borough of Canley</td>\n",
       "      <td>0.000047</td>\n",
       "      <td>0.020833</td>\n",
       "      <td>10.829637</td>\n",
       "    </tr>\n",
       "    <tr>\n",
       "      <th>48101</th>\n",
       "      <td>Bönk</td>\n",
       "      <td>Pewter City</td>\n",
       "      <td>0.000047</td>\n",
       "      <td>0.020833</td>\n",
       "      <td>10.329808</td>\n",
       "    </tr>\n",
       "    <tr>\n",
       "      <th>48129</th>\n",
       "      <td>Bönk</td>\n",
       "      <td>Rimmington</td>\n",
       "      <td>0.000047</td>\n",
       "      <td>0.020833</td>\n",
       "      <td>10.329808</td>\n",
       "    </tr>\n",
       "    <tr>\n",
       "      <th>181032</th>\n",
       "      <td>San Andreas</td>\n",
       "      <td>Townsville</td>\n",
       "      <td>0.000047</td>\n",
       "      <td>0.020690</td>\n",
       "      <td>9.952342</td>\n",
       "    </tr>\n",
       "    <tr>\n",
       "      <th>180996</th>\n",
       "      <td>San Andreas</td>\n",
       "      <td>Spectre</td>\n",
       "      <td>0.000047</td>\n",
       "      <td>0.020690</td>\n",
       "      <td>9.805984</td>\n",
       "    </tr>\n",
       "    <tr>\n",
       "      <th>181054</th>\n",
       "      <td>San Andreas</td>\n",
       "      <td>Wazoo</td>\n",
       "      <td>0.000047</td>\n",
       "      <td>0.020690</td>\n",
       "      <td>9.734407</td>\n",
       "    </tr>\n",
       "    <tr>\n",
       "      <th>48173</th>\n",
       "      <td>Bönk</td>\n",
       "      <td>Steel City</td>\n",
       "      <td>0.000047</td>\n",
       "      <td>0.020833</td>\n",
       "      <td>9.730978</td>\n",
       "    </tr>\n",
       "  </tbody>\n",
       "</table>\n",
       "</div>"
      ],
      "text/plain": [
       "              City1                     City2   Support  Confidence       Lift\n",
       "48220          Bönk                  Vetusta   0.000062    0.027778  13.069343\n",
       "48021          Bönk              Liberty City  0.000047    0.020833  11.779605\n",
       "47905          Bönk              Capitol City  0.000062    0.027778  11.190625\n",
       "48028          Bönk  London Borough of Canley  0.000047    0.020833  10.829637\n",
       "48101          Bönk               Pewter City  0.000047    0.020833  10.329808\n",
       "48129          Bönk                Rimmington  0.000047    0.020833  10.329808\n",
       "181032  San Andreas                Townsville  0.000047    0.020690   9.952342\n",
       "180996  San Andreas                   Spectre  0.000047    0.020690   9.805984\n",
       "181054  San Andreas                     Wazoo  0.000047    0.020690   9.734407\n",
       "48173          Bönk                Steel City  0.000047    0.020833   9.730978"
      ]
     },
     "execution_count": 40,
     "metadata": {},
     "output_type": "execute_result"
    }
   ],
   "source": [
    "cities_suggested_target = results_df[(results_df['City1'].isin(cities_visited_target)) & ~(results_df['City2'].isin(cities_visited_target))].sort_values(by='Lift',ascending=False)['City2'].tolist()[:5]\n",
    "results_df[(results_df['City1'].isin(cities_visited_target)) & ~(results_df['City2'].isin(cities_visited_target))].sort_values(by='Lift',ascending=False).head(10)"
   ]
  },
  {
   "cell_type": "markdown",
   "metadata": {},
   "source": [
    "Our goal here is to get a list of five cities with the highest *lift* considering the list of cities already visited. We need to be careful to remove our original list and also any duplicates that show up."
   ]
  },
  {
   "cell_type": "code",
   "execution_count": 41,
   "metadata": {
    "execution": {
     "iopub.execute_input": "2022-01-13T15:02:42.988684Z",
     "iopub.status.busy": "2022-01-13T15:02:42.988443Z",
     "iopub.status.idle": "2022-01-13T15:02:43.007972Z",
     "shell.execute_reply": "2022-01-13T15:02:43.007066Z",
     "shell.execute_reply.started": "2022-01-13T15:02:42.988654Z"
    }
   },
   "outputs": [
    {
     "data": {
      "text/plain": [
       "['Vetusta ',\n",
       " 'Liberty City',\n",
       " 'Capitol City',\n",
       " 'London Borough of Canley',\n",
       " 'Pewter City']"
      ]
     },
     "execution_count": 41,
     "metadata": {},
     "output_type": "execute_result"
    }
   ],
   "source": [
    "max_options = len(set(results_df[(results_df['City1'].isin(cities_visited_target)) & ~(results_df['City2'].isin(cities_visited_target))].sort_values(by='Lift',ascending=False)['City2'].tolist()))\n",
    "cities_suggested_target = [i for n, i in enumerate(cities_suggested_target) if i not in cities_suggested_target[:n]]\n",
    "aux_var = 5\n",
    "while len(cities_suggested_target)!=5 and len(cities_suggested_target)<max_options:\n",
    "    cities_suggested_target += results_df[(results_df['City1'].isin(cities_visited_target)) & ~(results_df['City2'].isin(cities_visited_target))].sort_values(by='Lift',ascending=False).iloc[aux_var,1]\n",
    "    cities_suggested_target = [i for n, i in enumerate(cities_suggested_target) if i not in cities_suggested_target[:n]]\n",
    "    aux_var += 1\n",
    "    \n",
    "cities_suggested_target"
   ]
  },
  {
   "cell_type": "markdown",
   "metadata": {},
   "source": [
    "We might not get five cities from this method. To complete our list, we will fill the gap with cities with the highest cosine similarity comparing to our user."
   ]
  },
  {
   "cell_type": "code",
   "execution_count": 42,
   "metadata": {
    "execution": {
     "iopub.execute_input": "2022-01-13T15:04:50.636450Z",
     "iopub.status.busy": "2022-01-13T15:04:50.636024Z",
     "iopub.status.idle": "2022-01-13T15:04:50.649166Z",
     "shell.execute_reply": "2022-01-13T15:04:50.648166Z",
     "shell.execute_reply.started": "2022-01-13T15:04:50.636408Z"
    }
   },
   "outputs": [
    {
     "data": {
      "text/plain": [
       "['Vetusta ',\n",
       " 'Liberty City',\n",
       " 'Capitol City',\n",
       " 'London Borough of Canley',\n",
       " 'Pewter City']"
      ]
     },
     "execution_count": 42,
     "metadata": {},
     "output_type": "execute_result"
    }
   ],
   "source": [
    "if len(cities_suggested_target)<5:\n",
    "    target_user_vector = user_vector[user_vector['Name']==user_target]\n",
    "    \n",
    "    corr_user_cities_df = pd.DataFrame(columns=['City','Similarity'])\n",
    "    corr_user_cities_df['City'] = city_vector['City']\n",
    "    for ii in range(len(city_vector)):\n",
    "        corr_user_cities_df.iloc[ii,1] = float(cosine_similarity([target_user_vector.iloc[0,1:]],[city_vector.iloc[ii,1:]]))\n",
    "    \n",
    "    corr_user_cities_df = corr_user_cities_df.sort_values(by='Similarity',ascending=False)\n",
    "    \n",
    "    aux_var = 0\n",
    "    while (len(cities_suggested_target)<5):\n",
    "        if not(corr_user_cities_df.iloc[aux_var,0].isin(cities_suggested_target)):\n",
    "            cities_suggested_target += corr_user_cities_df.iloc[aux_var,0]\n",
    "        else:\n",
    "            aux_var += 1\n",
    "        \n",
    "cities_suggested_target"
   ]
  },
  {
   "cell_type": "markdown",
   "metadata": {},
   "source": [
    "We now have our 5 suggestions for cities the user should visit. The next step is to get up to five activities in each city."
   ]
  },
  {
   "cell_type": "code",
   "execution_count": 43,
   "metadata": {
    "execution": {
     "iopub.execute_input": "2022-01-13T15:09:09.483608Z",
     "iopub.status.busy": "2022-01-13T15:09:09.483198Z",
     "iopub.status.idle": "2022-01-13T15:09:09.528861Z",
     "shell.execute_reply": "2022-01-13T15:09:09.527879Z",
     "shell.execute_reply.started": "2022-01-13T15:09:09.483570Z"
    }
   },
   "outputs": [
    {
     "data": {
      "text/plain": [
       "['San Andreas - Activity14',\n",
       " 'San Andreas - Activity39',\n",
       " 'San Andreas - Activity02',\n",
       " 'San Andreas - Activity09',\n",
       " 'San Andreas - Activity23',\n",
       " 'Bönk - Activity08',\n",
       " 'San Andreas - Activity24',\n",
       " 'San Andreas - Activity06',\n",
       " 'San Andreas - Activity42',\n",
       " 'San Andreas - Activity17',\n",
       " 'San Andreas - Activity01',\n",
       " 'San Andreas - Activity03',\n",
       " 'San Andreas - Activity29',\n",
       " 'Bönk - Activity03',\n",
       " 'San Andreas - Activity08',\n",
       " 'San Andreas - Activity21',\n",
       " 'San Andreas - Activity07',\n",
       " 'San Andreas - Activity18',\n",
       " 'San Andreas - Activity25',\n",
       " 'San Andreas - Activity43',\n",
       " 'San Andreas - Activity19',\n",
       " 'San Andreas - Activity15',\n",
       " 'San Andreas - Activity38',\n",
       " 'San Andreas - Activity35',\n",
       " 'Nabooru - Activity03',\n",
       " 'Bönk - Activity06',\n",
       " 'San Andreas - Activity26',\n",
       " 'Nabooru - Activity01',\n",
       " 'San Andreas - Activity27',\n",
       " 'San Andreas - Activity34',\n",
       " 'San Andreas - Activity16',\n",
       " 'San Andreas - Activity10',\n",
       " 'San Andreas - Activity36',\n",
       " 'San Andreas - Activity37',\n",
       " 'San Andreas - Activity22',\n",
       " 'Nabooru - Activity02',\n",
       " 'San Andreas - Activity41',\n",
       " 'San Andreas - Activity44',\n",
       " 'San Andreas - Activity11',\n",
       " 'San Andreas - Activity45',\n",
       " 'Bönk - Activity04']"
      ]
     },
     "execution_count": 43,
     "metadata": {},
     "output_type": "execute_result"
    }
   ],
   "source": [
    "activities_visited_user = list(set(user_table[user_table['Name']==user_target]['City-Act']))\n",
    "activities_visited_user"
   ]
  },
  {
   "cell_type": "markdown",
   "metadata": {},
   "source": [
    "We have the cities and activities the user has already experienced and our suggested cities. For each new city, we will look for up to five activities that are associated with the past experiences."
   ]
  },
  {
   "cell_type": "code",
   "execution_count": 44,
   "metadata": {
    "execution": {
     "iopub.execute_input": "2022-01-13T15:09:13.445055Z",
     "iopub.status.busy": "2022-01-13T15:09:13.444397Z",
     "iopub.status.idle": "2022-01-13T15:09:33.692867Z",
     "shell.execute_reply": "2022-01-13T15:09:33.692009Z",
     "shell.execute_reply.started": "2022-01-13T15:09:13.445003Z"
    }
   },
   "outputs": [
    {
     "data": {
      "text/html": [
       "<div>\n",
       "<style scoped>\n",
       "    .dataframe tbody tr th:only-of-type {\n",
       "        vertical-align: middle;\n",
       "    }\n",
       "\n",
       "    .dataframe tbody tr th {\n",
       "        vertical-align: top;\n",
       "    }\n",
       "\n",
       "    .dataframe thead th {\n",
       "        text-align: right;\n",
       "    }\n",
       "</style>\n",
       "<table border=\"1\" class=\"dataframe\">\n",
       "  <thead>\n",
       "    <tr style=\"text-align: right;\">\n",
       "      <th></th>\n",
       "      <th>Vetusta</th>\n",
       "      <th>Liberty City</th>\n",
       "      <th>Capitol City</th>\n",
       "      <th>London Borough of Canley</th>\n",
       "      <th>Pewter City</th>\n",
       "    </tr>\n",
       "  </thead>\n",
       "  <tbody>\n",
       "    <tr>\n",
       "      <th>0</th>\n",
       "      <td>Activity01</td>\n",
       "      <td>Activity04</td>\n",
       "      <td>Activity04</td>\n",
       "      <td>Activity04</td>\n",
       "      <td>Activity03</td>\n",
       "    </tr>\n",
       "    <tr>\n",
       "      <th>1</th>\n",
       "      <td>Activity05</td>\n",
       "      <td>Activity01</td>\n",
       "      <td>Activity21</td>\n",
       "      <td>Activity07</td>\n",
       "      <td>Activity06</td>\n",
       "    </tr>\n",
       "    <tr>\n",
       "      <th>2</th>\n",
       "      <td>Activity08</td>\n",
       "      <td>Activity02</td>\n",
       "      <td>Activity14</td>\n",
       "      <td>Activity02</td>\n",
       "      <td>Activity02</td>\n",
       "    </tr>\n",
       "    <tr>\n",
       "      <th>3</th>\n",
       "      <td>Activity10</td>\n",
       "      <td>Activity03</td>\n",
       "      <td>Activity08</td>\n",
       "      <td>Activity01</td>\n",
       "      <td>Activity05</td>\n",
       "    </tr>\n",
       "    <tr>\n",
       "      <th>4</th>\n",
       "      <td>Activity11</td>\n",
       "      <td></td>\n",
       "      <td>Activity20</td>\n",
       "      <td></td>\n",
       "      <td>Activity01</td>\n",
       "    </tr>\n",
       "  </tbody>\n",
       "</table>\n",
       "</div>"
      ],
      "text/plain": [
       "     Vetusta  Liberty City Capitol City London Borough of Canley Pewter City\n",
       "0  Activity01   Activity04   Activity04               Activity04  Activity03\n",
       "1  Activity05   Activity01   Activity21               Activity07  Activity06\n",
       "2  Activity08   Activity02   Activity14               Activity02  Activity02\n",
       "3  Activity10   Activity03   Activity08               Activity01  Activity05\n",
       "4  Activity11                Activity20                           Activity01"
      ]
     },
     "execution_count": 44,
     "metadata": {},
     "output_type": "execute_result"
    }
   ],
   "source": [
    "final_suggestion_list = pd.DataFrame(columns=cities_suggested_target)\n",
    "for city in cities_suggested_target:\n",
    "    max_options_act = len(set(results_act_df[(results_act_df['Activity1'].isin(activities_visited_user)) & (results_act_df['City2']==city)].sort_values(by='Lift',ascending=False)['Activity2'].tolist()))\n",
    "    aux_list = results_act_df[(results_act_df['Activity1'].isin(activities_visited_user)) & (results_act_df['City2']==city)].sort_values(by='Lift',ascending=False)['Activity2'].tolist()[:5]\n",
    "    aux_list = [i for n, i in enumerate(aux_list) if i not in aux_list[:n]]\n",
    "\n",
    "    aux_var = 5\n",
    "    while len(aux_list)!=5 and len(aux_list)<max_options_act:\n",
    "        aux_list += [results_act_df[(results_act_df['Activity1'].isin(activities_visited_user)) & (results_act_df['City2']==city)].sort_values(by='Lift',ascending=False)['Activity2'].tolist()[aux_var]]\n",
    "        aux_var += 1\n",
    "        aux_list = [i for n, i in enumerate(aux_list) if i not in aux_list[:n]]\n",
    "    \n",
    "    while len(aux_list)<5:\n",
    "        aux_list += ['']\n",
    "    final_suggestion_list[city] = aux_list\n",
    "final_suggestion_list"
   ]
  },
  {
   "cell_type": "markdown",
   "metadata": {},
   "source": [
    "## 9. End result\n",
    "We have now worked through our data and we are ready to define a function that only has one input, the name of the user we are interested. It returns a table with the five cities and up to five activities for each city, strongest recommendation first is both cases."
   ]
  },
  {
   "cell_type": "code",
   "execution_count": 45,
   "metadata": {
    "execution": {
     "iopub.execute_input": "2022-01-13T15:09:50.594896Z",
     "iopub.status.busy": "2022-01-13T15:09:50.594600Z",
     "iopub.status.idle": "2022-01-13T15:09:50.618453Z",
     "shell.execute_reply": "2022-01-13T15:09:50.617381Z",
     "shell.execute_reply.started": "2022-01-13T15:09:50.594866Z"
    }
   },
   "outputs": [],
   "source": [
    "def make_suggestions(user_target):\n",
    "    cities_visited_target = list(set(user_table[user_table['Name']==user_target]['City']))\n",
    "    \n",
    "    cities_suggested_target = results_df[(results_df['City1'].isin(cities_visited_target)) & ~(results_df['City2'].isin(cities_visited_target))].sort_values(by='Lift',ascending=False)['City2'].tolist()[:5]\n",
    "    \n",
    "    max_options = len(set(results_df[(results_df['City1'].isin(cities_visited_target)) & ~(results_df['City2'].isin(cities_visited_target))].sort_values(by='Lift',ascending=False)['City2'].tolist()))\n",
    "    cities_suggested_target = [i for n, i in enumerate(cities_suggested_target) if i not in cities_suggested_target[:n]]\n",
    "    aux_var = 5\n",
    "    while len(cities_suggested_target)!=5 and len(cities_suggested_target)<max_options:\n",
    "        cities_suggested_target += results_df[(results_df['City1'].isin(cities_visited_target)) & ~(results_df['City2'].isin(cities_visited_target))].sort_values(by='Lift',ascending=False).iloc[aux_var,1]\n",
    "        cities_suggested_target = [i for n, i in enumerate(cities_suggested_target) if i not in cities_suggested_target[:n]]\n",
    "        aux_var += 1\n",
    "    \n",
    "    if len(cities_suggested_target)<5:\n",
    "        target_user_vector = user_vector[user_vector['Name']==user_target]\n",
    "\n",
    "        corr_user_cities_df = pd.DataFrame(columns=['City','Similarity'])\n",
    "        corr_user_cities_df['City'] = city_vector['City']\n",
    "        for ii in range(len(city_vector)):\n",
    "            corr_user_cities_df.iloc[ii,1] = float(cosine_similarity([target_user_vector.iloc[0,1:]],[city_vector.iloc[ii,1:]]))\n",
    "\n",
    "        corr_user_cities_df = corr_user_cities_df.sort_values(by='Similarity',ascending=False)\n",
    "\n",
    "        aux_var = 0\n",
    "        while (len(cities_suggested_target)<5):\n",
    "            if not(corr_user_cities_df.iloc[aux_var,0].isin(cities_suggested_target)):\n",
    "                cities_suggested_target += corr_user_cities_df.iloc[aux_var,0]\n",
    "            else:\n",
    "                aux_var += 1\n",
    "    \n",
    "    \n",
    "    final_suggestion_list_temp = pd.DataFrame(columns=cities_suggested_target)\n",
    "    \n",
    "    activities_visited_user = list(set(user_table[user_table['Name']==user_target]['City-Act']))\n",
    "    for city in cities_suggested_target:\n",
    "        max_options_act = len(set(results_act_df[(results_act_df['Activity1'].isin(activities_visited_user)) & (results_act_df['City2']==city)].sort_values(by='Lift',ascending=False)['Activity2'].tolist()))\n",
    "        aux_list = results_act_df[(results_act_df['Activity1'].isin(activities_visited_user)) & (results_act_df['City2']==city)].sort_values(by='Lift',ascending=False)['Activity2'].tolist()[:5]\n",
    "        aux_list = [i for n, i in enumerate(aux_list) if i not in aux_list[:n]]\n",
    "\n",
    "        aux_var = 5\n",
    "        while len(aux_list)!=5 and len(aux_list)<max_options_act:\n",
    "            aux_list += [results_act_df[(results_act_df['Activity1'].isin(activities_visited_user)) & (results_act_df['City2']==city)].sort_values(by='Lift',ascending=False)['Activity2'].tolist()[aux_var]]\n",
    "            aux_var += 1\n",
    "            aux_list = [i for n, i in enumerate(aux_list) if i not in aux_list[:n]]\n",
    "\n",
    "        new_list = []\n",
    "        for ii in range(len(aux_list)):\n",
    "            new_list += [aux_list[ii]+' - '+city_table[(city_table['City']==city)].iloc[0,int(aux_list[ii][-2:])]]\n",
    "        while len(new_list)<5:\n",
    "            new_list += ['']\n",
    "        \n",
    "        final_suggestion_list_temp[city] = new_list\n",
    "    \n",
    "    return final_suggestion_list_temp"
   ]
  },
  {
   "cell_type": "code",
   "execution_count": 51,
   "metadata": {
    "execution": {
     "iopub.execute_input": "2022-01-13T15:09:55.362049Z",
     "iopub.status.busy": "2022-01-13T15:09:55.361301Z",
     "iopub.status.idle": "2022-01-13T15:10:15.782618Z",
     "shell.execute_reply": "2022-01-13T15:10:15.781638Z",
     "shell.execute_reply.started": "2022-01-13T15:09:55.362004Z"
    }
   },
   "outputs": [
    {
     "data": {
      "text/html": [
       "<div>\n",
       "<style scoped>\n",
       "    .dataframe tbody tr th:only-of-type {\n",
       "        vertical-align: middle;\n",
       "    }\n",
       "\n",
       "    .dataframe tbody tr th {\n",
       "        vertical-align: top;\n",
       "    }\n",
       "\n",
       "    .dataframe thead th {\n",
       "        text-align: right;\n",
       "    }\n",
       "</style>\n",
       "<table border=\"1\" class=\"dataframe\">\n",
       "  <thead>\n",
       "    <tr style=\"text-align: right;\">\n",
       "      <th></th>\n",
       "      <th>Vetusta</th>\n",
       "      <th>Liberty City</th>\n",
       "      <th>Capitol City</th>\n",
       "      <th>London Borough of Canley</th>\n",
       "      <th>Pewter City</th>\n",
       "    </tr>\n",
       "  </thead>\n",
       "  <tbody>\n",
       "    <tr>\n",
       "      <th>0</th>\n",
       "      <td>Activity01 - Hiking</td>\n",
       "      <td>Activity04 - Parks</td>\n",
       "      <td>Activity04 - Sports</td>\n",
       "      <td>Activity04 - Museums</td>\n",
       "      <td>Activity03 - Hiking</td>\n",
       "    </tr>\n",
       "    <tr>\n",
       "      <th>1</th>\n",
       "      <td>Activity05 - Food</td>\n",
       "      <td>Activity01 - Hiking</td>\n",
       "      <td>Activity21 - Beach</td>\n",
       "      <td>Activity07 - Museums</td>\n",
       "      <td>Activity06 - Beach</td>\n",
       "    </tr>\n",
       "    <tr>\n",
       "      <th>2</th>\n",
       "      <td>Activity08 - Sports</td>\n",
       "      <td>Activity02 - Parks</td>\n",
       "      <td>Activity14 - Beach</td>\n",
       "      <td>Activity02 - Hiking</td>\n",
       "      <td>Activity02 - Beach</td>\n",
       "    </tr>\n",
       "    <tr>\n",
       "      <th>3</th>\n",
       "      <td>Activity10 - Museums</td>\n",
       "      <td>Activity03 - Parks</td>\n",
       "      <td>Activity08 - Romantic</td>\n",
       "      <td>Activity01 - Romantic</td>\n",
       "      <td>Activity05 - Parks</td>\n",
       "    </tr>\n",
       "    <tr>\n",
       "      <th>4</th>\n",
       "      <td>Activity11 - Theater</td>\n",
       "      <td></td>\n",
       "      <td>Activity20 - Food</td>\n",
       "      <td></td>\n",
       "      <td>Activity01 - Museums</td>\n",
       "    </tr>\n",
       "  </tbody>\n",
       "</table>\n",
       "</div>"
      ],
      "text/plain": [
       "               Vetusta          Liberty City           Capitol City  \\\n",
       "0   Activity01 - Hiking   Activity04 - Parks    Activity04 - Sports   \n",
       "1     Activity05 - Food  Activity01 - Hiking     Activity21 - Beach   \n",
       "2   Activity08 - Sports   Activity02 - Parks     Activity14 - Beach   \n",
       "3  Activity10 - Museums   Activity03 - Parks  Activity08 - Romantic   \n",
       "4  Activity11 - Theater                           Activity20 - Food   \n",
       "\n",
       "  London Borough of Canley           Pewter City  \n",
       "0     Activity04 - Museums   Activity03 - Hiking  \n",
       "1     Activity07 - Museums    Activity06 - Beach  \n",
       "2      Activity02 - Hiking    Activity02 - Beach  \n",
       "3    Activity01 - Romantic    Activity05 - Parks  \n",
       "4                           Activity01 - Museums  "
      ]
     },
     "execution_count": 51,
     "metadata": {},
     "output_type": "execute_result"
    }
   ],
   "source": [
    "make_suggestions('RODRIGO')"
   ]
  },
  {
   "cell_type": "code",
   "execution_count": 52,
   "metadata": {
    "execution": {
     "iopub.execute_input": "2022-01-13T15:14:53.445053Z",
     "iopub.status.busy": "2022-01-13T15:14:53.444704Z",
     "iopub.status.idle": "2022-01-13T15:15:04.388766Z",
     "shell.execute_reply": "2022-01-13T15:15:04.388028Z",
     "shell.execute_reply.started": "2022-01-13T15:14:53.445021Z"
    }
   },
   "outputs": [
    {
     "data": {
      "text/html": [
       "<div>\n",
       "<style scoped>\n",
       "    .dataframe tbody tr th:only-of-type {\n",
       "        vertical-align: middle;\n",
       "    }\n",
       "\n",
       "    .dataframe tbody tr th {\n",
       "        vertical-align: top;\n",
       "    }\n",
       "\n",
       "    .dataframe thead th {\n",
       "        text-align: right;\n",
       "    }\n",
       "</style>\n",
       "<table border=\"1\" class=\"dataframe\">\n",
       "  <thead>\n",
       "    <tr style=\"text-align: right;\">\n",
       "      <th></th>\n",
       "      <th>Sera</th>\n",
       "      <th>Walkerville</th>\n",
       "      <th>Townsville</th>\n",
       "      <th>Tomobiki</th>\n",
       "      <th>New Burbage</th>\n",
       "    </tr>\n",
       "  </thead>\n",
       "  <tbody>\n",
       "    <tr>\n",
       "      <th>0</th>\n",
       "      <td>Activity06 - Parks</td>\n",
       "      <td>Activity02 - History</td>\n",
       "      <td>Activity02 - Beach</td>\n",
       "      <td>Activity10 - Beach</td>\n",
       "      <td>Activity08 - Hiking</td>\n",
       "    </tr>\n",
       "    <tr>\n",
       "      <th>1</th>\n",
       "      <td>Activity05 - Sports</td>\n",
       "      <td>Activity05 - Music</td>\n",
       "      <td>Activity04 - Museums</td>\n",
       "      <td>Activity12 - Music</td>\n",
       "      <td>Activity09 - Theater</td>\n",
       "    </tr>\n",
       "    <tr>\n",
       "      <th>2</th>\n",
       "      <td>Activity03 - Beach</td>\n",
       "      <td>Activity01 - Music</td>\n",
       "      <td>Activity01 - Theater</td>\n",
       "      <td>Activity11 - Parks</td>\n",
       "      <td>Activity11 - Hiking</td>\n",
       "    </tr>\n",
       "    <tr>\n",
       "      <th>3</th>\n",
       "      <td>Activity02 - Music</td>\n",
       "      <td>Activity04 - History</td>\n",
       "      <td>Activity10 - Food</td>\n",
       "      <td>Activity09 - Sports</td>\n",
       "      <td>Activity06 - Museums</td>\n",
       "    </tr>\n",
       "    <tr>\n",
       "      <th>4</th>\n",
       "      <td>Activity01 - Sports</td>\n",
       "      <td>Activity03 - Food</td>\n",
       "      <td>Activity03 - Parks</td>\n",
       "      <td>Activity02 - Museums</td>\n",
       "      <td>Activity10 - Music</td>\n",
       "    </tr>\n",
       "  </tbody>\n",
       "</table>\n",
       "</div>"
      ],
      "text/plain": [
       "                  Sera           Walkerville            Townsville  \\\n",
       "0   Activity06 - Parks  Activity02 - History    Activity02 - Beach   \n",
       "1  Activity05 - Sports    Activity05 - Music  Activity04 - Museums   \n",
       "2   Activity03 - Beach    Activity01 - Music  Activity01 - Theater   \n",
       "3   Activity02 - Music  Activity04 - History     Activity10 - Food   \n",
       "4  Activity01 - Sports     Activity03 - Food    Activity03 - Parks   \n",
       "\n",
       "               Tomobiki           New Burbage  \n",
       "0    Activity10 - Beach   Activity08 - Hiking  \n",
       "1    Activity12 - Music  Activity09 - Theater  \n",
       "2    Activity11 - Parks   Activity11 - Hiking  \n",
       "3   Activity09 - Sports  Activity06 - Museums  \n",
       "4  Activity02 - Museums    Activity10 - Music  "
      ]
     },
     "execution_count": 52,
     "metadata": {},
     "output_type": "execute_result"
    }
   ],
   "source": [
    "make_suggestions('FILIPE')"
   ]
  },
  {
   "cell_type": "code",
   "execution_count": 53,
   "metadata": {
    "execution": {
     "iopub.status.busy": "2022-01-13T15:02:43.035234Z",
     "iopub.status.idle": "2022-01-13T15:02:43.035891Z",
     "shell.execute_reply": "2022-01-13T15:02:43.035716Z",
     "shell.execute_reply.started": "2022-01-13T15:02:43.035689Z"
    }
   },
   "outputs": [
    {
     "data": {
      "text/html": [
       "<div>\n",
       "<style scoped>\n",
       "    .dataframe tbody tr th:only-of-type {\n",
       "        vertical-align: middle;\n",
       "    }\n",
       "\n",
       "    .dataframe tbody tr th {\n",
       "        vertical-align: top;\n",
       "    }\n",
       "\n",
       "    .dataframe thead th {\n",
       "        text-align: right;\n",
       "    }\n",
       "</style>\n",
       "<table border=\"1\" class=\"dataframe\">\n",
       "  <thead>\n",
       "    <tr style=\"text-align: right;\">\n",
       "      <th></th>\n",
       "      <th>Transverse City</th>\n",
       "      <th>Tremorton</th>\n",
       "      <th>Watoga</th>\n",
       "      <th>Wellsville</th>\n",
       "      <th>Trost District</th>\n",
       "    </tr>\n",
       "  </thead>\n",
       "  <tbody>\n",
       "    <tr>\n",
       "      <th>0</th>\n",
       "      <td>Activity03 - Music</td>\n",
       "      <td>Activity06 - History</td>\n",
       "      <td>Activity10 - Theater</td>\n",
       "      <td>Activity07 - Beach</td>\n",
       "      <td>Activity04 - Museums</td>\n",
       "    </tr>\n",
       "    <tr>\n",
       "      <th>1</th>\n",
       "      <td>Activity04 - Museums</td>\n",
       "      <td>Activity04 - Beach</td>\n",
       "      <td>Activity01 - History</td>\n",
       "      <td>Activity18 - Hiking</td>\n",
       "      <td>Activity07 - Beach</td>\n",
       "    </tr>\n",
       "    <tr>\n",
       "      <th>2</th>\n",
       "      <td>Activity02 - Hiking</td>\n",
       "      <td>Activity01 - Sports</td>\n",
       "      <td>Activity15 - Parks</td>\n",
       "      <td>Activity10 - Hiking</td>\n",
       "      <td>Activity06 - History</td>\n",
       "    </tr>\n",
       "    <tr>\n",
       "      <th>3</th>\n",
       "      <td>Activity06 - Music</td>\n",
       "      <td>Activity02 - Museums</td>\n",
       "      <td>Activity11 - Food</td>\n",
       "      <td>Activity34 - Music</td>\n",
       "      <td>Activity03 - Romantic</td>\n",
       "    </tr>\n",
       "    <tr>\n",
       "      <th>4</th>\n",
       "      <td></td>\n",
       "      <td>Activity05 - Food</td>\n",
       "      <td>Activity09 - Parks</td>\n",
       "      <td>Activity23 - Romantic</td>\n",
       "      <td>Activity08 - History</td>\n",
       "    </tr>\n",
       "  </tbody>\n",
       "</table>\n",
       "</div>"
      ],
      "text/plain": [
       "        Transverse City             Tremorton                Watoga  \\\n",
       "0    Activity03 - Music  Activity06 - History  Activity10 - Theater   \n",
       "1  Activity04 - Museums    Activity04 - Beach  Activity01 - History   \n",
       "2   Activity02 - Hiking   Activity01 - Sports    Activity15 - Parks   \n",
       "3    Activity06 - Music  Activity02 - Museums     Activity11 - Food   \n",
       "4                           Activity05 - Food    Activity09 - Parks   \n",
       "\n",
       "              Wellsville        Trost District   \n",
       "0     Activity07 - Beach   Activity04 - Museums  \n",
       "1    Activity18 - Hiking     Activity07 - Beach  \n",
       "2    Activity10 - Hiking   Activity06 - History  \n",
       "3     Activity34 - Music  Activity03 - Romantic  \n",
       "4  Activity23 - Romantic   Activity08 - History  "
      ]
     },
     "execution_count": 53,
     "metadata": {},
     "output_type": "execute_result"
    }
   ],
   "source": [
    "make_suggestions('RAFAELA')"
   ]
  },
  {
   "cell_type": "code",
   "execution_count": 54,
   "metadata": {
    "execution": {
     "iopub.status.busy": "2022-01-13T15:02:43.037261Z",
     "iopub.status.idle": "2022-01-13T15:02:43.037588Z",
     "shell.execute_reply": "2022-01-13T15:02:43.037438Z",
     "shell.execute_reply.started": "2022-01-13T15:02:43.037416Z"
    }
   },
   "outputs": [
    {
     "data": {
      "text/html": [
       "<div>\n",
       "<style scoped>\n",
       "    .dataframe tbody tr th:only-of-type {\n",
       "        vertical-align: middle;\n",
       "    }\n",
       "\n",
       "    .dataframe tbody tr th {\n",
       "        vertical-align: top;\n",
       "    }\n",
       "\n",
       "    .dataframe thead th {\n",
       "        text-align: right;\n",
       "    }\n",
       "</style>\n",
       "<table border=\"1\" class=\"dataframe\">\n",
       "  <thead>\n",
       "    <tr style=\"text-align: right;\">\n",
       "      <th></th>\n",
       "      <th>Spectre</th>\n",
       "      <th>London Borough of Canley</th>\n",
       "      <th>Sleeping Beauty's Castle</th>\n",
       "      <th>Mudville</th>\n",
       "      <th>Saria</th>\n",
       "    </tr>\n",
       "  </thead>\n",
       "  <tbody>\n",
       "    <tr>\n",
       "      <th>0</th>\n",
       "      <td>Activity03 - Music</td>\n",
       "      <td>Activity06 - Beach</td>\n",
       "      <td>Activity06 - Museums</td>\n",
       "      <td>Activity01 - History</td>\n",
       "      <td>Activity14 - Parks</td>\n",
       "    </tr>\n",
       "    <tr>\n",
       "      <th>1</th>\n",
       "      <td>Activity06 - Museums</td>\n",
       "      <td>Activity05 - Food</td>\n",
       "      <td>Activity03 - Parks</td>\n",
       "      <td>Activity03 - Beach</td>\n",
       "      <td>Activity04 - Romantic</td>\n",
       "    </tr>\n",
       "    <tr>\n",
       "      <th>2</th>\n",
       "      <td>Activity04 - Music</td>\n",
       "      <td>Activity04 - Museums</td>\n",
       "      <td>Activity07 - Sports</td>\n",
       "      <td>Activity02 - Parks</td>\n",
       "      <td>Activity07 - Museums</td>\n",
       "    </tr>\n",
       "    <tr>\n",
       "      <th>3</th>\n",
       "      <td>Activity11 - Beach</td>\n",
       "      <td>Activity03 - Sports</td>\n",
       "      <td>Activity02 - Parks</td>\n",
       "      <td>Activity04 - Beach</td>\n",
       "      <td>Activity08 - Beach</td>\n",
       "    </tr>\n",
       "    <tr>\n",
       "      <th>4</th>\n",
       "      <td>Activity05 - Romantic</td>\n",
       "      <td>Activity07 - Museums</td>\n",
       "      <td>Activity01 - Food</td>\n",
       "      <td></td>\n",
       "      <td>Activity15 - History</td>\n",
       "    </tr>\n",
       "  </tbody>\n",
       "</table>\n",
       "</div>"
      ],
      "text/plain": [
       "                 Spectre London Borough of Canley Sleeping Beauty's Castle  \\\n",
       "0     Activity03 - Music       Activity06 - Beach     Activity06 - Museums   \n",
       "1   Activity06 - Museums        Activity05 - Food       Activity03 - Parks   \n",
       "2     Activity04 - Music     Activity04 - Museums      Activity07 - Sports   \n",
       "3     Activity11 - Beach      Activity03 - Sports       Activity02 - Parks   \n",
       "4  Activity05 - Romantic     Activity07 - Museums        Activity01 - Food   \n",
       "\n",
       "               Mudville                  Saria  \n",
       "0  Activity01 - History     Activity14 - Parks  \n",
       "1    Activity03 - Beach  Activity04 - Romantic  \n",
       "2    Activity02 - Parks   Activity07 - Museums  \n",
       "3    Activity04 - Beach     Activity08 - Beach  \n",
       "4                         Activity15 - History  "
      ]
     },
     "execution_count": 54,
     "metadata": {},
     "output_type": "execute_result"
    }
   ],
   "source": [
    "make_suggestions('MARCUS')"
   ]
  },
  {
   "cell_type": "code",
   "execution_count": 55,
   "metadata": {
    "execution": {
     "iopub.status.busy": "2022-01-13T15:02:43.038864Z",
     "iopub.status.idle": "2022-01-13T15:02:43.039467Z",
     "shell.execute_reply": "2022-01-13T15:02:43.039290Z",
     "shell.execute_reply.started": "2022-01-13T15:02:43.039264Z"
    }
   },
   "outputs": [
    {
     "data": {
      "text/html": [
       "<div>\n",
       "<style scoped>\n",
       "    .dataframe tbody tr th:only-of-type {\n",
       "        vertical-align: middle;\n",
       "    }\n",
       "\n",
       "    .dataframe tbody tr th {\n",
       "        vertical-align: top;\n",
       "    }\n",
       "\n",
       "    .dataframe thead th {\n",
       "        text-align: right;\n",
       "    }\n",
       "</style>\n",
       "<table border=\"1\" class=\"dataframe\">\n",
       "  <thead>\n",
       "    <tr style=\"text-align: right;\">\n",
       "      <th></th>\n",
       "      <th>Tilbury Town</th>\n",
       "      <th>The Emerald City</th>\n",
       "      <th>Westopolis</th>\n",
       "      <th>Tinny Waters</th>\n",
       "      <th>Tilling</th>\n",
       "    </tr>\n",
       "  </thead>\n",
       "  <tbody>\n",
       "    <tr>\n",
       "      <th>0</th>\n",
       "      <td>Activity06 - Beach</td>\n",
       "      <td>Activity08 - Theater</td>\n",
       "      <td>Activity04 - Music</td>\n",
       "      <td>Activity06 - Theater</td>\n",
       "      <td>Activity04 - Parks</td>\n",
       "    </tr>\n",
       "    <tr>\n",
       "      <th>1</th>\n",
       "      <td>Activity03 - Hiking</td>\n",
       "      <td>Activity04 - Music</td>\n",
       "      <td>Activity05 - Romantic</td>\n",
       "      <td>Activity03 - Museums</td>\n",
       "      <td>Activity01 - Beach</td>\n",
       "    </tr>\n",
       "    <tr>\n",
       "      <th>2</th>\n",
       "      <td>Activity04 - Hiking</td>\n",
       "      <td>Activity03 - Romantic</td>\n",
       "      <td>Activity01 - Music</td>\n",
       "      <td>Activity05 - Museums</td>\n",
       "      <td>Activity02 - Hiking</td>\n",
       "    </tr>\n",
       "    <tr>\n",
       "      <th>3</th>\n",
       "      <td>Activity02 - Theater</td>\n",
       "      <td>Activity06 - Theater</td>\n",
       "      <td>Activity06 - Theater</td>\n",
       "      <td>Activity02 - Beach</td>\n",
       "      <td>Activity05 - Museums</td>\n",
       "    </tr>\n",
       "    <tr>\n",
       "      <th>4</th>\n",
       "      <td>Activity05 - History</td>\n",
       "      <td>Activity07 - Theater</td>\n",
       "      <td>Activity03 - Hiking</td>\n",
       "      <td>Activity01 - Beach</td>\n",
       "      <td></td>\n",
       "    </tr>\n",
       "  </tbody>\n",
       "</table>\n",
       "</div>"
      ],
      "text/plain": [
       "           Tilbury Town       The Emerald City             Westopolis  \\\n",
       "0    Activity06 - Beach   Activity08 - Theater     Activity04 - Music   \n",
       "1   Activity03 - Hiking     Activity04 - Music  Activity05 - Romantic   \n",
       "2   Activity04 - Hiking  Activity03 - Romantic     Activity01 - Music   \n",
       "3  Activity02 - Theater   Activity06 - Theater   Activity06 - Theater   \n",
       "4  Activity05 - History   Activity07 - Theater    Activity03 - Hiking   \n",
       "\n",
       "           Tinny Waters               Tilling  \n",
       "0  Activity06 - Theater    Activity04 - Parks  \n",
       "1  Activity03 - Museums    Activity01 - Beach  \n",
       "2  Activity05 - Museums   Activity02 - Hiking  \n",
       "3    Activity02 - Beach  Activity05 - Museums  \n",
       "4    Activity01 - Beach                        "
      ]
     },
     "execution_count": 55,
     "metadata": {},
     "output_type": "execute_result"
    }
   ],
   "source": [
    "make_suggestions('PEDRO')"
   ]
  },
  {
   "cell_type": "code",
   "execution_count": null,
   "metadata": {},
   "outputs": [],
   "source": []
  },
  {
   "cell_type": "code",
   "execution_count": null,
   "metadata": {},
   "outputs": [],
   "source": []
  }
 ],
 "metadata": {
  "kernelspec": {
   "display_name": "Python 3",
   "language": "python",
   "name": "python3"
  },
  "language_info": {
   "codemirror_mode": {
    "name": "ipython",
    "version": 3
   },
   "file_extension": ".py",
   "mimetype": "text/x-python",
   "name": "python",
   "nbconvert_exporter": "python",
   "pygments_lexer": "ipython3",
   "version": "3.7.6"
  }
 },
 "nbformat": 4,
 "nbformat_minor": 4
}
